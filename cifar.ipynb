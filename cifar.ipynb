{
 "cells": [
  {
   "cell_type": "markdown",
   "metadata": {},
   "source": [
    "<h1>By: Joel <br> Class: DAAA/2B/06<br> admin no: 2112729</h1>\n",
    "<h1>"
   ]
  },
  {
   "cell_type": "markdown",
   "metadata": {},
   "source": [
    "# Cifar-100 \n",
    "> Collected by Alex Krizhevsky, Vinod Nair, and Geoffrey Hinton.State of the art accuracy is at 96.808 as of 2022 \n",
    "\n",
    "Research on the dataset:\n",
    "> Cifar 100 contains 80 million tiny dataset images. They are colored which means they have 3 channels and each channel has 32 by 32 pixels.\n",
    "The classes are completely mutually exclusive. There is no overlap between automobiles and trucks. \"Automobile\" includes sedans, SUVs, things of that sort. \"Truck\" includes only big trucks. Neither includes pickup trucks. \n",
    "\n",
    "|  SuperClass |  Classes |   \n",
    "|-------------|---|\n",
    "| aquatic mammals  |  \tbeaver, dolphin, otter, seal, whale |  \n",
    "|   fish    |  \taquarium fish, flatfish, ray, shark, trout | \n",
    "|  flowers |  \torchids, poppies, roses, sunflowers, tulips |\n",
    "|food containers|\tbottles, bowls, cans, cups, plates |\n",
    "|fruit and vegetables|apples, mushrooms, oranges, pears, sweet peppers|\n",
    "|household electrical devices|clock, computer keyboard, lamp, telephone, television|\n",
    "|household furniture|bed, chair, couch, table, wardrobe|\n",
    "|insects|\tbee, beetle, butterfly, caterpillar, cockroach|\n",
    "|large carnivores|\tbear, leopard, lion, tiger, wolf|\n",
    "|large man-made outdoor things|\tbridge, castle, house, road, skyscraper|\n",
    "|large natural outdoor scenes|\tcloud, forest, mountain, plain, sea|\n",
    "|large omnivores and herbivores|\tcamel, cattle, chimpanzee, elephant, kangaroo|\n",
    "| medium-sized mammals|fox, porcupine, possum, raccoon, skunk|\n",
    "| non-insect invertebrates|\tcrab, lobster, snail, spider, worm|\n",
    "|people|\tbaby, boy, girl, man, woman|\n",
    "|reptiles|\tcrocodile, dinosaur, lizard, snake, turtle|\n",
    "|small mammals|\thamster, mouse, rabbit, shrew, squirrel|\n",
    "|trees|\tmaple, oak, palm, pine, willow|\n",
    "|vehicles_1|\tbicycle, bus, motorcycle, pickup truck, train|\n",
    "|vehicles_2|\tlawn-mower, rocket, streetcar, tank, tractor|"
   ]
  },
  {
   "cell_type": "code",
   "execution_count": 19,
   "metadata": {},
   "outputs": [
    {
     "name": "stdout",
     "output_type": "stream",
     "text": [
      "Requirement already satisfied: keras-tuner in c:\\users\\lg\\appdata\\local\\programs\\python\\python310\\lib\\site-packages (1.1.3)\n",
      "Requirement already satisfied: tensorboard in c:\\users\\lg\\appdata\\local\\programs\\python\\python310\\lib\\site-packages (from keras-tuner) (2.10.1)\n",
      "Requirement already satisfied: packaging in c:\\users\\lg\\appdata\\local\\programs\\python\\python310\\lib\\site-packages (from keras-tuner) (21.3)\n",
      "Requirement already satisfied: requests in c:\\users\\lg\\appdata\\local\\programs\\python\\python310\\lib\\site-packages (from keras-tuner) (2.27.1)\n",
      "Requirement already satisfied: ipython in c:\\users\\lg\\appdata\\local\\programs\\python\\python310\\lib\\site-packages (from keras-tuner) (8.0.0)\n",
      "Requirement already satisfied: kt-legacy in c:\\users\\lg\\appdata\\local\\programs\\python\\python310\\lib\\site-packages (from keras-tuner) (1.0.4)\n",
      "Requirement already satisfied: numpy in c:\\users\\lg\\appdata\\local\\programs\\python\\python310\\lib\\site-packages (from keras-tuner) (1.23.4)\n",
      "Requirement already satisfied: pickleshare in c:\\users\\lg\\appdata\\local\\programs\\python\\python310\\lib\\site-packages (from ipython->keras-tuner) (0.7.5)\n",
      "Requirement already satisfied: traitlets>=5 in c:\\users\\lg\\appdata\\local\\programs\\python\\python310\\lib\\site-packages (from ipython->keras-tuner) (5.1.1)\n",
      "Requirement already satisfied: colorama in c:\\users\\lg\\appdata\\local\\programs\\python\\python310\\lib\\site-packages (from ipython->keras-tuner) (0.4.4)\n",
      "Requirement already satisfied: jedi>=0.16 in c:\\users\\lg\\appdata\\local\\programs\\python\\python310\\lib\\site-packages (from ipython->keras-tuner) (0.18.1)\n",
      "Requirement already satisfied: setuptools>=18.5 in c:\\users\\lg\\appdata\\local\\programs\\python\\python310\\lib\\site-packages (from ipython->keras-tuner) (57.4.0)\n",
      "Requirement already satisfied: decorator in c:\\users\\lg\\appdata\\local\\programs\\python\\python310\\lib\\site-packages (from ipython->keras-tuner) (5.1.1)\n",
      "Requirement already satisfied: matplotlib-inline in c:\\users\\lg\\appdata\\local\\programs\\python\\python310\\lib\\site-packages (from ipython->keras-tuner) (0.1.3)\n",
      "Requirement already satisfied: pygments in c:\\users\\lg\\appdata\\local\\programs\\python\\python310\\lib\\site-packages (from ipython->keras-tuner) (2.11.2)\n",
      "Requirement already satisfied: backcall in c:\\users\\lg\\appdata\\local\\programs\\python\\python310\\lib\\site-packages (from ipython->keras-tuner) (0.2.0)\n",
      "Requirement already satisfied: prompt-toolkit!=3.0.0,!=3.0.1,<3.1.0,>=2.0.0 in c:\\users\\lg\\appdata\\local\\programs\\python\\python310\\lib\\site-packages (from ipython->keras-tuner) (3.0.24)\n",
      "Requirement already satisfied: stack-data in c:\\users\\lg\\appdata\\local\\programs\\python\\python310\\lib\\site-packages (from ipython->keras-tuner) (0.1.3)\n",
      "Requirement already satisfied: black in c:\\users\\lg\\appdata\\local\\programs\\python\\python310\\lib\\site-packages (from ipython->keras-tuner) (21.12b0)\n",
      "Requirement already satisfied: pyparsing!=3.0.5,>=2.0.2 in c:\\users\\lg\\appdata\\local\\programs\\python\\python310\\lib\\site-packages (from packaging->keras-tuner) (3.0.6)\n",
      "Requirement already satisfied: charset-normalizer~=2.0.0 in c:\\users\\lg\\appdata\\local\\programs\\python\\python310\\lib\\site-packages (from requests->keras-tuner) (2.0.11)\n",
      "Requirement already satisfied: idna<4,>=2.5 in c:\\users\\lg\\appdata\\local\\programs\\python\\python310\\lib\\site-packages (from requests->keras-tuner) (3.3)\n",
      "Requirement already satisfied: urllib3<1.27,>=1.21.1 in c:\\users\\lg\\appdata\\local\\programs\\python\\python310\\lib\\site-packages (from requests->keras-tuner) (1.26.8)\n",
      "Requirement already satisfied: certifi>=2017.4.17 in c:\\users\\lg\\appdata\\local\\programs\\python\\python310\\lib\\site-packages (from requests->keras-tuner) (2021.10.8)\n",
      "Requirement already satisfied: tensorboard-data-server<0.7.0,>=0.6.0 in c:\\users\\lg\\appdata\\local\\programs\\python\\python310\\lib\\site-packages (from tensorboard->keras-tuner) (0.6.1)\n",
      "Requirement already satisfied: google-auth<3,>=1.6.3 in c:\\users\\lg\\appdata\\local\\programs\\python\\python310\\lib\\site-packages (from tensorboard->keras-tuner) (2.13.0)\n",
      "Requirement already satisfied: werkzeug>=1.0.1 in c:\\users\\lg\\appdata\\local\\programs\\python\\python310\\lib\\site-packages (from tensorboard->keras-tuner) (1.0.1)\n",
      "Requirement already satisfied: wheel>=0.26 in c:\\users\\lg\\appdata\\local\\programs\\python\\python310\\lib\\site-packages (from tensorboard->keras-tuner) (0.37.1)\n",
      "Requirement already satisfied: absl-py>=0.4 in c:\\users\\lg\\appdata\\local\\programs\\python\\python310\\lib\\site-packages (from tensorboard->keras-tuner) (1.3.0)\n",
      "Requirement already satisfied: google-auth-oauthlib<0.5,>=0.4.1 in c:\\users\\lg\\appdata\\local\\programs\\python\\python310\\lib\\site-packages (from tensorboard->keras-tuner) (0.4.6)\n",
      "Requirement already satisfied: markdown>=2.6.8 in c:\\users\\lg\\appdata\\local\\programs\\python\\python310\\lib\\site-packages (from tensorboard->keras-tuner) (3.4.1)\n",
      "Requirement already satisfied: protobuf<3.20,>=3.9.2 in c:\\users\\lg\\appdata\\local\\programs\\python\\python310\\lib\\site-packages (from tensorboard->keras-tuner) (3.19.6)\n",
      "Requirement already satisfied: grpcio>=1.24.3 in c:\\users\\lg\\appdata\\local\\programs\\python\\python310\\lib\\site-packages (from tensorboard->keras-tuner) (1.50.0)\n",
      "Requirement already satisfied: tensorboard-plugin-wit>=1.6.0 in c:\\users\\lg\\appdata\\local\\programs\\python\\python310\\lib\\site-packages (from tensorboard->keras-tuner) (1.8.1)\n",
      "Requirement already satisfied: cachetools<6.0,>=2.0.0 in c:\\users\\lg\\appdata\\local\\programs\\python\\python310\\lib\\site-packages (from google-auth<3,>=1.6.3->tensorboard->keras-tuner) (5.2.0)\n",
      "Requirement already satisfied: pyasn1-modules>=0.2.1 in c:\\users\\lg\\appdata\\local\\programs\\python\\python310\\lib\\site-packages (from google-auth<3,>=1.6.3->tensorboard->keras-tuner) (0.2.8)\n",
      "Requirement already satisfied: six>=1.9.0 in c:\\users\\lg\\appdata\\local\\programs\\python\\python310\\lib\\site-packages (from google-auth<3,>=1.6.3->tensorboard->keras-tuner) (1.15.0)\n",
      "Requirement already satisfied: rsa<5,>=3.1.4 in c:\\users\\lg\\appdata\\local\\programs\\python\\python310\\lib\\site-packages (from google-auth<3,>=1.6.3->tensorboard->keras-tuner) (4.9)\n",
      "Requirement already satisfied: requests-oauthlib>=0.7.0 in c:\\users\\lg\\appdata\\local\\programs\\python\\python310\\lib\\site-packages (from google-auth-oauthlib<0.5,>=0.4.1->tensorboard->keras-tuner) (1.3.1)\n",
      "Requirement already satisfied: parso<0.9.0,>=0.8.0 in c:\\users\\lg\\appdata\\local\\programs\\python\\python310\\lib\\site-packages (from jedi>=0.16->ipython->keras-tuner) (0.8.3)\n",
      "Requirement already satisfied: wcwidth in c:\\users\\lg\\appdata\\local\\programs\\python\\python310\\lib\\site-packages (from prompt-toolkit!=3.0.0,!=3.0.1,<3.1.0,>=2.0.0->ipython->keras-tuner) (0.2.5)\n",
      "Requirement already satisfied: pathspec<1,>=0.9.0 in c:\\users\\lg\\appdata\\local\\programs\\python\\python310\\lib\\site-packages (from black->ipython->keras-tuner) (0.9.0)\n",
      "Requirement already satisfied: platformdirs>=2 in c:\\users\\lg\\appdata\\local\\programs\\python\\python310\\lib\\site-packages (from black->ipython->keras-tuner) (2.4.1)\n",
      "Requirement already satisfied: click>=7.1.2 in c:\\users\\lg\\appdata\\local\\programs\\python\\python310\\lib\\site-packages (from black->ipython->keras-tuner) (7.1.2)\n",
      "Requirement already satisfied: typing-extensions>=3.10.0.0 in c:\\users\\lg\\appdata\\local\\programs\\python\\python310\\lib\\site-packages (from black->ipython->keras-tuner) (4.0.1)\n",
      "Requirement already satisfied: mypy-extensions>=0.4.3 in c:\\users\\lg\\appdata\\local\\programs\\python\\python310\\lib\\site-packages (from black->ipython->keras-tuner) (0.4.3)\n",
      "Requirement already satisfied: tomli<2.0.0,>=0.2.6 in c:\\users\\lg\\appdata\\local\\programs\\python\\python310\\lib\\site-packages (from black->ipython->keras-tuner) (1.2.3)\n",
      "Requirement already satisfied: pure-eval in c:\\users\\lg\\appdata\\local\\programs\\python\\python310\\lib\\site-packages (from stack-data->ipython->keras-tuner) (0.2.1)\n",
      "Requirement already satisfied: executing in c:\\users\\lg\\appdata\\local\\programs\\python\\python310\\lib\\site-packages (from stack-data->ipython->keras-tuner) (0.8.2)\n",
      "Requirement already satisfied: asttokens in c:\\users\\lg\\appdata\\local\\programs\\python\\python310\\lib\\site-packages (from stack-data->ipython->keras-tuner) (2.0.5)\n",
      "Requirement already satisfied: pyasn1<0.5.0,>=0.4.6 in c:\\users\\lg\\appdata\\local\\programs\\python\\python310\\lib\\site-packages (from pyasn1-modules>=0.2.1->google-auth<3,>=1.6.3->tensorboard->keras-tuner) (0.4.8)\n",
      "Requirement already satisfied: oauthlib>=3.0.0 in c:\\users\\lg\\appdata\\local\\programs\\python\\python310\\lib\\site-packages (from requests-oauthlib>=0.7.0->google-auth-oauthlib<0.5,>=0.4.1->tensorboard->keras-tuner) (3.2.2)\n",
      "Note: you may need to restart the kernel to use updated packages.\n"
     ]
    },
    {
     "name": "stderr",
     "output_type": "stream",
     "text": [
      "\n",
      "[notice] A new release of pip available: 22.2.2 -> 22.3.1\n",
      "[notice] To update, run: python.exe -m pip install --upgrade pip\n"
     ]
    }
   ],
   "source": [
    "# pip install keras-tuner --upgrade "
   ]
  },
  {
   "cell_type": "code",
   "execution_count": 2,
   "metadata": {},
   "outputs": [],
   "source": [
    "import tensorflow \n",
    "import pandas as pd\n",
    "import numpy as np\n",
    "import seaborn as sns\n",
    "import matplotlib.pyplot as plt\n",
    "from keras.datasets import cifar100\n",
    "from tensorflow.keras.layers import Conv2D,Flatten\n",
    "from numpy import mean\n",
    "from numpy import std\n",
    "from matplotlib import pyplot\n",
    "from sklearn.model_selection import KFold\n",
    "from keras.utils import to_categorical\n",
    "from keras.models import Sequential\n",
    "from keras.layers import Conv2D\n",
    "from keras.layers import MaxPooling2D\n",
    "from keras.layers import Dense\n",
    "from keras.layers import Flatten\n",
    "from keras.optimizers import SGD\n",
    "from keras.layers import Dropout\n",
    "from keras.layers import BatchNormalization\n",
    "from keras.layers import Activation\n",
    "from keras.layers import LeakyReLU\n",
    "from keras.optimizers import Adam\n",
    "from keras.callbacks import EarlyStopping\n",
    "from keras.callbacks import ModelCheckpoint\n",
    "from keras.callbacks import ReduceLROnPlateau\n",
    "from keras.preprocessing.image import ImageDataGenerator\n",
    "from keras.models import load_model\n",
    "from keras import regularizers\n",
    "from sklearn.model_selection import train_test_split\n",
    "import keras_cv\n",
    "from keras import layers\n",
    "from tensorflow import keras"
   ]
  },
  {
   "cell_type": "markdown",
   "metadata": {},
   "source": [
    "# Exploratory Data analysis"
   ]
  },
  {
   "cell_type": "markdown",
   "metadata": {},
   "source": [
    "## Key conclusions:\n",
    "- 500 data points per class in train \n",
    "- 400 data "
   ]
  },
  {
   "cell_type": "code",
   "execution_count": 3,
   "metadata": {},
   "outputs": [],
   "source": [
    "(X_train, y_train), (X_test, y_test) = cifar100.load_data()\n",
    "assert X_train.shape == (50000, 32, 32, 3)\n",
    "assert X_test.shape == (10000, 32, 32, 3)\n",
    "assert y_train.shape == (50000, 1)\n",
    "assert y_test.shape == (10000, 1)"
   ]
  },
  {
   "cell_type": "code",
   "execution_count": 4,
   "metadata": {},
   "outputs": [
    {
     "name": "stdout",
     "output_type": "stream",
     "text": [
      "X_train shape: (40000, 32, 32, 3) y_train shape: (40000, 1)\n",
      "X_test shape: (10000, 32, 32, 3) y_test shape: (10000, 1)\n",
      "Unique classes count: 100\n",
      "4     400\n",
      "2     400\n",
      "84    400\n",
      "15    400\n",
      "37    400\n",
      "     ... \n",
      "62    400\n",
      "41    400\n",
      "12    400\n",
      "0     400\n",
      "93    400\n",
      "Name: 0, Length: 100, dtype: int64\n",
      "after (40000, 100) (10000, 100)\n"
     ]
    }
   ],
   "source": [
    "# split into train and val sets using train_test_split\n",
    "X_train, X_val, y_train, y_val = train_test_split(X_train, y_train, test_size=0.2, random_state=42, stratify=y_train)\n",
    "\n",
    "print(\"X_train shape:\", X_train.shape, \"y_train shape:\", y_train.shape)\n",
    "print(\"X_test shape:\", X_test.shape, \"y_test shape:\", y_test.shape)\n",
    "\n",
    "\n",
    "# print unique classes count\n",
    "print(\"Unique classes count:\", len(np.unique(y_train)))\n",
    "\n",
    "# print unique classes\n",
    "y_train_df = pd.DataFrame(y_train)\n",
    "print(y_train_df[0].value_counts())\n",
    "\n",
    "\n",
    "y_test_label = y_test\n",
    "y_train = to_categorical(y_train)\n",
    "y_test = to_categorical(y_test)\n",
    "y_val = to_categorical(y_val)\n",
    "print('after',y_train.shape,y_test.shape)\n"
   ]
  },
  {
   "cell_type": "code",
   "execution_count": 5,
   "metadata": {},
   "outputs": [
    {
     "name": "stdout",
     "output_type": "stream",
     "text": [
      "X_train shape: (32000, 32, 32, 3) y_train shape: (32000, 100)\n",
      "X_test shape: (10000, 32, 32, 3) y_test shape: (10000, 100)\n",
      "0.0    31680\n",
      "1.0      320\n",
      "Name: 0, dtype: int64\n"
     ]
    }
   ],
   "source": [
    "# split train and validation set\n",
    "from sklearn.model_selection import train_test_split\n",
    "X_train, X_val, y_train, y_val = train_test_split(X_train, y_train, test_size=0.2, random_state=42, stratify=y_train)\n",
    "print(\"X_train shape:\", X_train.shape, \"y_train shape:\", y_train.shape)\n",
    "print(\"X_test shape:\", X_test.shape, \"y_test shape:\", y_test.shape)\n",
    "\n",
    "\n",
    "# print unique classes\n",
    "y_train_df = pd.DataFrame(y_train)\n",
    "print(y_train_df[0].value_counts())\n"
   ]
  },
  {
   "cell_type": "code",
   "execution_count": 6,
   "metadata": {},
   "outputs": [
    {
     "data": {
      "image/png": "[encoded data removed]",
      "text/plain": [
       "<Figure size 720x720 with 9 Axes>"
      ]
     },
     "metadata": {},
     "output_type": "display_data"
    }
   ],
   "source": [
    "# show some images of the dataset\n",
    "fig, axes = plt.subplots(3, 3, figsize=(10, 10))\n",
    "for i, ax in enumerate(axes.flat):\n",
    "    ax.imshow(X_train[i])\n",
    "    ax.set(xticks=[], yticks=[])\n",
    "plt.show()\n",
    "\n"
   ]
  },
  {
   "cell_type": "code",
   "execution_count": 7,
   "metadata": {},
   "outputs": [],
   "source": [
    "# Functions for plotting\n",
    "import plotly\n",
    "from plotly import tools\n",
    "from plotly.offline import download_plotlyjs, init_notebook_mode, plot, iplot\n",
    "import plotly.graph_objs as go\n",
    "def create_trace(x,y,ylabel,color):\n",
    "        trace = go.Scatter(\n",
    "            x = x,y = y,\n",
    "            name=ylabel,\n",
    "            marker=dict(color=color),\n",
    "            mode = \"markers+lines\",\n",
    "            text=x\n",
    "        )\n",
    "        return trace\n",
    "    \n",
    "def plot_accuracy_and_loss(train_model):\n",
    "    hist = train_model.history\n",
    "    acc = hist['accuracy']\n",
    "    val_acc = hist['val_accuracy']\n",
    "    loss = hist['loss']\n",
    "    val_loss = hist['val_loss']\n",
    "    epochs = list(range(1,len(acc)+1))\n",
    "    \n",
    "    trace_ta = create_trace(epochs,acc,\"Training accuracy\", \"Green\")\n",
    "    trace_va = create_trace(epochs,val_acc,\"Validation accuracy\", \"Red\")\n",
    "    trace_tl = create_trace(epochs,loss,\"Training loss\", \"Blue\")\n",
    "    trace_vl = create_trace(epochs,val_loss,\"Validation loss\", \"Magenta\")\n",
    "   \n",
    "    fig = plotly.subplots.make_subplots(rows=1,cols=2, subplot_titles=('Training and validation accuracy',\n",
    "                                                             'Training and validation loss'))\n",
    "    fig.append_trace(trace_ta,1,1)\n",
    "    fig.append_trace(trace_va,1,1)\n",
    "    fig.append_trace(trace_tl,1,2)\n",
    "    fig.append_trace(trace_vl,1,2)\n",
    "    fig['layout']['xaxis'].update(title = 'Epoch')\n",
    "    fig['layout']['xaxis2'].update(title = 'Epoch')\n",
    "    fig['layout']['yaxis'].update(title = 'Accuracy', range=[0,1])\n",
    "    fig['layout']['yaxis2'].update(title = 'Loss', range=[0,1])\n",
    "\n",
    "    \n",
    "    iplot(fig, filename=f'accuracy-loss_{train_model}')\n",
    "    "
   ]
  },
  {
   "cell_type": "markdown",
   "metadata": {},
   "source": [
    "# CNN Baseline\n",
    "> CIFAR 100 seems to be alot harder for a simple CNN model to recognize\n",
    "\n",
    "![](./image/Filtering.gif)\n",
    "> Image is different from a typical MNIST dataset as it is now coloured, below is a sneak peak of what goes on in the code below"
   ]
  },
  {
   "cell_type": "code",
   "execution_count": 8,
   "metadata": {},
   "outputs": [
    {
     "name": "stdout",
     "output_type": "stream",
     "text": [
      "Model: \"sequential\"\n",
      "_________________________________________________________________\n",
      " Layer (type)                Output Shape              Param #   \n",
      "=================================================================\n",
      " conv2d (Conv2D)             (None, 30, 30, 32)        896       \n",
      "                                                                 \n",
      " conv2d_1 (Conv2D)           (None, 28, 28, 64)        18496     \n",
      "                                                                 \n",
      " flatten (Flatten)           (None, 50176)             0         \n",
      "                                                                 \n",
      " dense (Dense)               (None, 128)               6422656   \n",
      "                                                                 \n",
      " dense_1 (Dense)             (None, 100)               12900     \n",
      "                                                                 \n",
      "=================================================================\n",
      "Total params: 6,454,948\n",
      "Trainable params: 6,454,948\n",
      "Non-trainable params: 0\n",
      "_________________________________________________________________\n",
      "Epoch 1/10\n",
      "1000/1000 [==============================] - 53s 52ms/step - loss: 6.7121 - accuracy: 0.0139 - val_loss: 4.5771 - val_accuracy: 0.0191\n",
      "Epoch 2/10\n",
      "1000/1000 [==============================] - 65s 65ms/step - loss: 4.5115 - accuracy: 0.0339 - val_loss: 4.5522 - val_accuracy: 0.0321\n",
      "Epoch 3/10\n",
      "1000/1000 [==============================] - 70s 70ms/step - loss: 4.2148 - accuracy: 0.0887 - val_loss: 4.6530 - val_accuracy: 0.0393\n",
      "Epoch 4/10\n",
      "1000/1000 [==============================] - 74s 74ms/step - loss: 3.6346 - accuracy: 0.2008 - val_loss: 5.1660 - val_accuracy: 0.0413\n",
      "Epoch 5/10\n",
      "1000/1000 [==============================] - 77s 77ms/step - loss: 2.9403 - accuracy: 0.3420 - val_loss: 6.2172 - val_accuracy: 0.0526\n",
      "Epoch 6/10\n",
      "1000/1000 [==============================] - 88s 88ms/step - loss: 2.3263 - accuracy: 0.4778 - val_loss: 7.2072 - val_accuracy: 0.0491\n",
      "Epoch 7/10\n",
      "1000/1000 [==============================] - 88s 88ms/step - loss: 1.9132 - accuracy: 0.5698 - val_loss: 9.0084 - val_accuracy: 0.0535\n",
      "Epoch 8/10\n",
      "1000/1000 [==============================] - 78s 78ms/step - loss: 1.5708 - accuracy: 0.6461 - val_loss: 11.0004 - val_accuracy: 0.0578\n",
      "Epoch 9/10\n",
      "1000/1000 [==============================] - 79s 79ms/step - loss: 1.3211 - accuracy: 0.7050 - val_loss: 12.3582 - val_accuracy: 0.0610\n",
      "Epoch 10/10\n",
      "1000/1000 [==============================] - 109s 110ms/step - loss: 1.1079 - accuracy: 0.7502 - val_loss: 17.2729 - val_accuracy: 0.0584\n"
     ]
    },
    {
     "data": {
      "application/vnd.plotly.v1+json": {
       "config": {
        "linkText": "Export to plot.ly",
        "plotlyServerURL": "https://plot.ly",
        "showLink": false
       },
       "data": [
        {
         "marker": {
          "color": "Green"
         },
         "mode": "markers+lines",
         "name": "Training accuracy",
         "text": [
          "1",
          "2",
          "3",
          "4",
          "5",
          "6",
          "7",
          "8",
          "9",
          "10"
         ],
         "type": "scatter",
         "x": [
          1,
          2,
          3,
          4,
          5,
          6,
          7,
          8,
          9,
          10
         ],
         "xaxis": "x",
         "y": [
          0.013875000178813934,
          0.033906251192092896,
          0.08874999731779099,
          0.20081250369548798,
          0.34203124046325684,
          0.4777500033378601,
          0.5698124766349792,
          0.6460624933242798,
          0.7049687504768372,
          0.750249981880188
         ],
         "yaxis": "y"
        },
        {
         "marker": {
          "color": "Red"
         },
         "mode": "markers+lines",
         "name": "Validation accuracy",
         "text": [
          "1",
          "2",
          "3",
          "4",
          "5",
          "6",
          "7",
          "8",
          "9",
          "10"
         ],
         "type": "scatter",
         "x": [
          1,
          2,
          3,
          4,
          5,
          6,
          7,
          8,
          9,
          10
         ],
         "xaxis": "x",
         "y": [
          0.01912499964237213,
          0.03212499991059303,
          0.039250001311302185,
          0.04125000163912773,
          0.05262500047683716,
          0.04912500083446503,
          0.05350000038743019,
          0.057750001549720764,
          0.061000000685453415,
          0.058375000953674316
         ],
         "yaxis": "y"
        },
        {
         "marker": {
          "color": "Blue"
         },
         "mode": "markers+lines",
         "name": "Training loss",
         "text": [
          "1",
          "2",
          "3",
          "4",
          "5",
          "6",
          "7",
          "8",
          "9",
          "10"
         ],
         "type": "scatter",
         "x": [
          1,
          2,
          3,
          4,
          5,
          6,
          7,
          8,
          9,
          10
         ],
         "xaxis": "x2",
         "y": [
          6.712087631225586,
          4.511459827423096,
          4.214754104614258,
          3.6346209049224854,
          2.9402737617492676,
          2.326338768005371,
          1.9131875038146973,
          1.570790410041809,
          1.3210875988006592,
          1.1078784465789795
         ],
         "yaxis": "y2"
        },
        {
         "marker": {
          "color": "Magenta"
         },
         "mode": "markers+lines",
         "name": "Validation loss",
         "text": [
          "1",
          "2",
          "3",
          "4",
          "5",
          "6",
          "7",
          "8",
          "9",
          "10"
         ],
         "type": "scatter",
         "x": [
          1,
          2,
          3,
          4,
          5,
          6,
          7,
          8,
          9,
          10
         ],
         "xaxis": "x2",
         "y": [
          4.577065467834473,
          4.552244663238525,
          4.653031826019287,
          5.166016578674316,
          6.217216491699219,
          7.207245349884033,
          9.008404731750488,
          11.000421524047852,
          12.35822582244873,
          17.272907257080078
         ],
         "yaxis": "y2"
        }
       ],
       "layout": {
        "annotations": [
         {
          "font": {
           "size": 16
          },
          "showarrow": false,
          "text": "Training and validation accuracy",
          "x": 0.225,
          "xanchor": "center",
          "xref": "paper",
          "y": 1,
          "yanchor": "bottom",
          "yref": "paper"
         },
         {
          "font": {
           "size": 16
          },
          "showarrow": false,
          "text": "Training and validation loss",
          "x": 0.775,
          "xanchor": "center",
          "xref": "paper",
          "y": 1,
          "yanchor": "bottom",
          "yref": "paper"
         }
        ],
        "template": {
         "data": {
          "bar": [
           {
            "error_x": {
             "color": "#2a3f5f"
            },
            "error_y": {
             "color": "#2a3f5f"
            },
            "marker": {
             "line": {
              "color": "#E5ECF6",
              "width": 0.5
             },
             "pattern": {
              "fillmode": "overlay",
              "size": 10,
              "solidity": 0.2
             }
            },
            "type": "bar"
           }
          ],
          "barpolar": [
           {
            "marker": {
             "line": {
              "color": "#E5ECF6",
              "width": 0.5
             },
             "pattern": {
              "fillmode": "overlay",
              "size": 10,
              "solidity": 0.2
             }
            },
            "type": "barpolar"
           }
          ],
          "carpet": [
           {
            "aaxis": {
             "endlinecolor": "#2a3f5f",
             "gridcolor": "white",
             "linecolor": "white",
             "minorgridcolor": "white",
             "startlinecolor": "#2a3f5f"
            },
            "baxis": {
             "endlinecolor": "#2a3f5f",
             "gridcolor": "white",
             "linecolor": "white",
             "minorgridcolor": "white",
             "startlinecolor": "#2a3f5f"
            },
            "type": "carpet"
           }
          ],
          "choropleth": [
           {
            "colorbar": {
             "outlinewidth": 0,
             "ticks": ""
            },
            "type": "choropleth"
           }
          ],
          "contour": [
           {
            "colorbar": {
             "outlinewidth": 0,
             "ticks": ""
            },
            "colorscale": [
             [
              0,
              "#0d0887"
             ],
             [
              0.1111111111111111,
              "#46039f"
             ],
             [
              0.2222222222222222,
              "#7201a8"
             ],
             [
              0.3333333333333333,
              "#9c179e"
             ],
             [
              0.4444444444444444,
              "#bd3786"
             ],
             [
              0.5555555555555556,
              "#d8576b"
             ],
             [
              0.6666666666666666,
              "#ed7953"
             ],
             [
              0.7777777777777778,
              "#fb9f3a"
             ],
             [
              0.8888888888888888,
              "#fdca26"
             ],
             [
              1,
              "#f0f921"
             ]
            ],
            "type": "contour"
           }
          ],
          "contourcarpet": [
           {
            "colorbar": {
             "outlinewidth": 0,
             "ticks": ""
            },
            "type": "contourcarpet"
           }
          ],
          "heatmap": [
           {
            "colorbar": {
             "outlinewidth": 0,
             "ticks": ""
            },
            "colorscale": [
             [
              0,
              "#0d0887"
             ],
             [
              0.1111111111111111,
              "#46039f"
             ],
             [
              0.2222222222222222,
              "#7201a8"
             ],
             [
              0.3333333333333333,
              "#9c179e"
             ],
             [
              0.4444444444444444,
              "#bd3786"
             ],
             [
              0.5555555555555556,
              "#d8576b"
             ],
             [
              0.6666666666666666,
              "#ed7953"
             ],
             [
              0.7777777777777778,
              "#fb9f3a"
             ],
             [
              0.8888888888888888,
              "#fdca26"
             ],
             [
              1,
              "#f0f921"
             ]
            ],
            "type": "heatmap"
           }
          ],
          "heatmapgl": [
           {
            "colorbar": {
             "outlinewidth": 0,
             "ticks": ""
            },
            "colorscale": [
             [
              0,
              "#0d0887"
             ],
             [
              0.1111111111111111,
              "#46039f"
             ],
             [
              0.2222222222222222,
              "#7201a8"
             ],
             [
              0.3333333333333333,
              "#9c179e"
             ],
             [
              0.4444444444444444,
              "#bd3786"
             ],
             [
              0.5555555555555556,
              "#d8576b"
             ],
             [
              0.6666666666666666,
              "#ed7953"
             ],
             [
              0.7777777777777778,
              "#fb9f3a"
             ],
             [
              0.8888888888888888,
              "#fdca26"
             ],
             [
              1,
              "#f0f921"
             ]
            ],
            "type": "heatmapgl"
           }
          ],
          "histogram": [
           {
            "marker": {
             "pattern": {
              "fillmode": "overlay",
              "size": 10,
              "solidity": 0.2
             }
            },
            "type": "histogram"
           }
          ],
          "histogram2d": [
           {
            "colorbar": {
             "outlinewidth": 0,
             "ticks": ""
            },
            "colorscale": [
             [
              0,
              "#0d0887"
             ],
             [
              0.1111111111111111,
              "#46039f"
             ],
             [
              0.2222222222222222,
              "#7201a8"
             ],
             [
              0.3333333333333333,
              "#9c179e"
             ],
             [
              0.4444444444444444,
              "#bd3786"
             ],
             [
              0.5555555555555556,
              "#d8576b"
             ],
             [
              0.6666666666666666,
              "#ed7953"
             ],
             [
              0.7777777777777778,
              "#fb9f3a"
             ],
             [
              0.8888888888888888,
              "#fdca26"
             ],
             [
              1,
              "#f0f921"
             ]
            ],
            "type": "histogram2d"
           }
          ],
          "histogram2dcontour": [
           {
            "colorbar": {
             "outlinewidth": 0,
             "ticks": ""
            },
            "colorscale": [
             [
              0,
              "#0d0887"
             ],
             [
              0.1111111111111111,
              "#46039f"
             ],
             [
              0.2222222222222222,
              "#7201a8"
             ],
             [
              0.3333333333333333,
              "#9c179e"
             ],
             [
              0.4444444444444444,
              "#bd3786"
             ],
             [
              0.5555555555555556,
              "#d8576b"
             ],
             [
              0.6666666666666666,
              "#ed7953"
             ],
             [
              0.7777777777777778,
              "#fb9f3a"
             ],
             [
              0.8888888888888888,
              "#fdca26"
             ],
             [
              1,
              "#f0f921"
             ]
            ],
            "type": "histogram2dcontour"
           }
          ],
          "mesh3d": [
           {
            "colorbar": {
             "outlinewidth": 0,
             "ticks": ""
            },
            "type": "mesh3d"
           }
          ],
          "parcoords": [
           {
            "line": {
             "colorbar": {
              "outlinewidth": 0,
              "ticks": ""
             }
            },
            "type": "parcoords"
           }
          ],
          "pie": [
           {
            "automargin": true,
            "type": "pie"
           }
          ],
          "scatter": [
           {
            "marker": {
             "colorbar": {
              "outlinewidth": 0,
              "ticks": ""
             }
            },
            "type": "scatter"
           }
          ],
          "scatter3d": [
           {
            "line": {
             "colorbar": {
              "outlinewidth": 0,
              "ticks": ""
             }
            },
            "marker": {
             "colorbar": {
              "outlinewidth": 0,
              "ticks": ""
             }
            },
            "type": "scatter3d"
           }
          ],
          "scattercarpet": [
           {
            "marker": {
             "colorbar": {
              "outlinewidth": 0,
              "ticks": ""
             }
            },
            "type": "scattercarpet"
           }
          ],
          "scattergeo": [
           {
            "marker": {
             "colorbar": {
              "outlinewidth": 0,
              "ticks": ""
             }
            },
            "type": "scattergeo"
           }
          ],
          "scattergl": [
           {
            "marker": {
             "colorbar": {
              "outlinewidth": 0,
              "ticks": ""
             }
            },
            "type": "scattergl"
           }
          ],
          "scattermapbox": [
           {
            "marker": {
             "colorbar": {
              "outlinewidth": 0,
              "ticks": ""
             }
            },
            "type": "scattermapbox"
           }
          ],
          "scatterpolar": [
           {
            "marker": {
             "colorbar": {
              "outlinewidth": 0,
              "ticks": ""
             }
            },
            "type": "scatterpolar"
           }
          ],
          "scatterpolargl": [
           {
            "marker": {
             "colorbar": {
              "outlinewidth": 0,
              "ticks": ""
             }
            },
            "type": "scatterpolargl"
           }
          ],
          "scatterternary": [
           {
            "marker": {
             "colorbar": {
              "outlinewidth": 0,
              "ticks": ""
             }
            },
            "type": "scatterternary"
           }
          ],
          "surface": [
           {
            "colorbar": {
             "outlinewidth": 0,
             "ticks": ""
            },
            "colorscale": [
             [
              0,
              "#0d0887"
             ],
             [
              0.1111111111111111,
              "#46039f"
             ],
             [
              0.2222222222222222,
              "#7201a8"
             ],
             [
              0.3333333333333333,
              "#9c179e"
             ],
             [
              0.4444444444444444,
              "#bd3786"
             ],
             [
              0.5555555555555556,
              "#d8576b"
             ],
             [
              0.6666666666666666,
              "#ed7953"
             ],
             [
              0.7777777777777778,
              "#fb9f3a"
             ],
             [
              0.8888888888888888,
              "#fdca26"
             ],
             [
              1,
              "#f0f921"
             ]
            ],
            "type": "surface"
           }
          ],
          "table": [
           {
            "cells": {
             "fill": {
              "color": "#EBF0F8"
             },
             "line": {
              "color": "white"
             }
            },
            "header": {
             "fill": {
              "color": "#C8D4E3"
             },
             "line": {
              "color": "white"
             }
            },
            "type": "table"
           }
          ]
         },
         "layout": {
          "annotationdefaults": {
           "arrowcolor": "#2a3f5f",
           "arrowhead": 0,
           "arrowwidth": 1
          },
          "autotypenumbers": "strict",
          "coloraxis": {
           "colorbar": {
            "outlinewidth": 0,
            "ticks": ""
           }
          },
          "colorscale": {
           "diverging": [
            [
             0,
             "#8e0152"
            ],
            [
             0.1,
             "#c51b7d"
            ],
            [
             0.2,
             "#de77ae"
            ],
            [
             0.3,
             "#f1b6da"
            ],
            [
             0.4,
             "#fde0ef"
            ],
            [
             0.5,
             "#f7f7f7"
            ],
            [
             0.6,
             "#e6f5d0"
            ],
            [
             0.7,
             "#b8e186"
            ],
            [
             0.8,
             "#7fbc41"
            ],
            [
             0.9,
             "#4d9221"
            ],
            [
             1,
             "#276419"
            ]
           ],
           "sequential": [
            [
             0,
             "#0d0887"
            ],
            [
             0.1111111111111111,
             "#46039f"
            ],
            [
             0.2222222222222222,
             "#7201a8"
            ],
            [
             0.3333333333333333,
             "#9c179e"
            ],
            [
             0.4444444444444444,
             "#bd3786"
            ],
            [
             0.5555555555555556,
             "#d8576b"
            ],
            [
             0.6666666666666666,
             "#ed7953"
            ],
            [
             0.7777777777777778,
             "#fb9f3a"
            ],
            [
             0.8888888888888888,
             "#fdca26"
            ],
            [
             1,
             "#f0f921"
            ]
           ],
           "sequentialminus": [
            [
             0,
             "#0d0887"
            ],
            [
             0.1111111111111111,
             "#46039f"
            ],
            [
             0.2222222222222222,
             "#7201a8"
            ],
            [
             0.3333333333333333,
             "#9c179e"
            ],
            [
             0.4444444444444444,
             "#bd3786"
            ],
            [
             0.5555555555555556,
             "#d8576b"
            ],
            [
             0.6666666666666666,
             "#ed7953"
            ],
            [
             0.7777777777777778,
             "#fb9f3a"
            ],
            [
             0.8888888888888888,
             "#fdca26"
            ],
            [
             1,
             "#f0f921"
            ]
           ]
          },
          "colorway": [
           "#636efa",
           "#EF553B",
           "#00cc96",
           "#ab63fa",
           "#FFA15A",
           "#19d3f3",
           "#FF6692",
           "#B6E880",
           "#FF97FF",
           "#FECB52"
          ],
          "font": {
           "color": "#2a3f5f"
          },
          "geo": {
           "bgcolor": "white",
           "lakecolor": "white",
           "landcolor": "#E5ECF6",
           "showlakes": true,
           "showland": true,
           "subunitcolor": "white"
          },
          "hoverlabel": {
           "align": "left"
          },
          "hovermode": "closest",
          "mapbox": {
           "style": "light"
          },
          "paper_bgcolor": "white",
          "plot_bgcolor": "#E5ECF6",
          "polar": {
           "angularaxis": {
            "gridcolor": "white",
            "linecolor": "white",
            "ticks": ""
           },
           "bgcolor": "#E5ECF6",
           "radialaxis": {
            "gridcolor": "white",
            "linecolor": "white",
            "ticks": ""
           }
          },
          "scene": {
           "xaxis": {
            "backgroundcolor": "#E5ECF6",
            "gridcolor": "white",
            "gridwidth": 2,
            "linecolor": "white",
            "showbackground": true,
            "ticks": "",
            "zerolinecolor": "white"
           },
           "yaxis": {
            "backgroundcolor": "#E5ECF6",
            "gridcolor": "white",
            "gridwidth": 2,
            "linecolor": "white",
            "showbackground": true,
            "ticks": "",
            "zerolinecolor": "white"
           },
           "zaxis": {
            "backgroundcolor": "#E5ECF6",
            "gridcolor": "white",
            "gridwidth": 2,
            "linecolor": "white",
            "showbackground": true,
            "ticks": "",
            "zerolinecolor": "white"
           }
          },
          "shapedefaults": {
           "line": {
            "color": "#2a3f5f"
           }
          },
          "ternary": {
           "aaxis": {
            "gridcolor": "white",
            "linecolor": "white",
            "ticks": ""
           },
           "baxis": {
            "gridcolor": "white",
            "linecolor": "white",
            "ticks": ""
           },
           "bgcolor": "#E5ECF6",
           "caxis": {
            "gridcolor": "white",
            "linecolor": "white",
            "ticks": ""
           }
          },
          "title": {
           "x": 0.05
          },
          "xaxis": {
           "automargin": true,
           "gridcolor": "white",
           "linecolor": "white",
           "ticks": "",
           "title": {
            "standoff": 15
           },
           "zerolinecolor": "white",
           "zerolinewidth": 2
          },
          "yaxis": {
           "automargin": true,
           "gridcolor": "white",
           "linecolor": "white",
           "ticks": "",
           "title": {
            "standoff": 15
           },
           "zerolinecolor": "white",
           "zerolinewidth": 2
          }
         }
        },
        "xaxis": {
         "anchor": "y",
         "domain": [
          0,
          0.45
         ],
         "title": {
          "text": "Epoch"
         }
        },
        "xaxis2": {
         "anchor": "y2",
         "domain": [
          0.55,
          1
         ],
         "title": {
          "text": "Epoch"
         }
        },
        "yaxis": {
         "anchor": "x",
         "domain": [
          0,
          1
         ],
         "range": [
          0,
          1
         ],
         "title": {
          "text": "Accuracy"
         }
        },
        "yaxis2": {
         "anchor": "x2",
         "domain": [
          0,
          1
         ],
         "range": [
          0,
          1
         ],
         "title": {
          "text": "Loss"
         }
        }
       }
      }
     },
     "metadata": {},
     "output_type": "display_data"
    }
   ],
   "source": [
    "\n",
    "\n",
    "epochs = 15\n",
    "num_classes = 100\n",
    "seed = np.random.seed(1)\n",
    "\n",
    "\n",
    "\n",
    "\n",
    "\n",
    "\n",
    "cifar_model = Sequential()\n",
    "cifar_model.add(Conv2D(32, kernel_size=(3, 3),activation='relu',input_shape=(32,32,3)))\n",
    "cifar_model.add(Conv2D(64, (3, 3), activation='relu'))\n",
    "cifar_model.add(Flatten())\n",
    "cifar_model.add(Dense(128, activation='relu'))\n",
    "cifar_model.add(Dense(num_classes, activation='softmax'))\n",
    "\n",
    "cifar_model.compile(loss='categorical_crossentropy', optimizer=Adam(),metrics=['accuracy'])\n",
    "cifar_model.summary()\n",
    "\n",
    "h_callback = cifar_model.fit(X_train, y_train, epochs = 10,\n",
    "               validation_data=(X_val, y_val))\n",
    "\n",
    "# Plot train vs test loss during training \n",
    "plot_accuracy_and_loss(h_callback)\n",
    "\n"
   ]
  },
  {
   "cell_type": "markdown",
   "metadata": {},
   "source": [
    "# Data augmentation\n",
    "> I definitely do not have enough datasets and will have to create more data by augmenting ."
   ]
  },
  {
   "cell_type": "code",
   "execution_count": 9,
   "metadata": {},
   "outputs": [
    {
     "data": {
      "image/png": "[encoded data removed]",
      "text/plain": [
       "<Figure size 432x288 with 1 Axes>"
      ]
     },
     "metadata": {
      "needs_background": "light"
     },
     "output_type": "display_data"
    }
   ],
   "source": [
    "# plot a random image\n",
    "plt.imshow(X_test[12])\n",
    "plt.show()"
   ]
  },
  {
   "cell_type": "code",
   "execution_count": 10,
   "metadata": {},
   "outputs": [
    {
     "data": {
      "image/png": "[encoded data removed]",
      "text/plain": [
       "<Figure size 2304x2304 with 1 Axes>"
      ]
     },
     "metadata": {
      "needs_background": "light"
     },
     "output_type": "display_data"
    },
    {
     "data": {
      "image/png": "[encoded data removed]",
      "text/plain": [
       "<Figure size 432x288 with 1 Axes>"
      ]
     },
     "metadata": {
      "needs_background": "light"
     },
     "output_type": "display_data"
    },
    {
     "data": {
      "image/png": "[encoded data removed]",
      "text/plain": [
       "<Figure size 432x288 with 1 Axes>"
      ]
     },
     "metadata": {
      "needs_background": "light"
     },
     "output_type": "display_data"
    },
    {
     "data": {
      "image/png": "[encoded data removed]",
      "text/plain": [
       "<Figure size 432x288 with 1 Axes>"
      ]
     },
     "metadata": {
      "needs_background": "light"
     },
     "output_type": "display_data"
    },
    {
     "data": {
      "image/png": "[encoded data removed]",
      "text/plain": [
       "<Figure size 432x288 with 1 Axes>"
      ]
     },
     "metadata": {
      "needs_background": "light"
     },
     "output_type": "display_data"
    },
    {
     "data": {
      "image/png": "[encoded data removed]",
      "text/plain": [
       "<Figure size 432x288 with 1 Axes>"
      ]
     },
     "metadata": {
      "needs_background": "light"
     },
     "output_type": "display_data"
    },
    {
     "data": {
      "image/png": "[encoded data removed]",
      "text/plain": [
       "<Figure size 432x288 with 1 Axes>"
      ]
     },
     "metadata": {
      "needs_background": "light"
     },
     "output_type": "display_data"
    },
    {
     "data": {
      "image/png": "[encoded data removed]",
      "text/plain": [
       "<Figure size 432x288 with 1 Axes>"
      ]
     },
     "metadata": {
      "needs_background": "light"
     },
     "output_type": "display_data"
    },
    {
     "name": "stdout",
     "output_type": "stream",
     "text": [
      "WARNING:tensorflow:5 out of the last 6 calls to <function RandomTranslation.augment_image at 0x0000017501687760> triggered tf.function retracing. Tracing is expensive and the excessive number of tracings could be due to (1) creating @tf.function repeatedly in a loop, (2) passing tensors with different shapes, (3) passing Python objects instead of tensors. For (1), please define your @tf.function outside of the loop. For (2), @tf.function has reduce_retracing=True option that can avoid unnecessary retracing. For (3), please refer to https://www.tensorflow.org/guide/function#controlling_retracing and https://www.tensorflow.org/api_docs/python/tf/function for  more details.\n"
     ]
    },
    {
     "data": {
      "image/png": "[encoded data removed]",
      "text/plain": [
       "<Figure size 432x288 with 1 Axes>"
      ]
     },
     "metadata": {
      "needs_background": "light"
     },
     "output_type": "display_data"
    },
    {
     "data": {
      "image/png": "[encoded data removed]",
      "text/plain": [
       "<Figure size 432x288 with 1 Axes>"
      ]
     },
     "metadata": {
      "needs_background": "light"
     },
     "output_type": "display_data"
    },
    {
     "name": "stdout",
     "output_type": "stream",
     "text": [
      "WARNING:tensorflow:6 out of the last 7 calls to <function RandomTranslation.augment_image at 0x0000017505B09090> triggered tf.function retracing. Tracing is expensive and the excessive number of tracings could be due to (1) creating @tf.function repeatedly in a loop, (2) passing tensors with different shapes, (3) passing Python objects instead of tensors. For (1), please define your @tf.function outside of the loop. For (2), @tf.function has reduce_retracing=True option that can avoid unnecessary retracing. For (3), please refer to https://www.tensorflow.org/guide/function#controlling_retracing and https://www.tensorflow.org/api_docs/python/tf/function for  more details.\n"
     ]
    },
    {
     "data": {
      "image/png": "[encoded data removed]",
      "text/plain": [
       "<Figure size 432x288 with 1 Axes>"
      ]
     },
     "metadata": {
      "needs_background": "light"
     },
     "output_type": "display_data"
    },
    {
     "data": {
      "image/png": "[encoded data removed]",
      "text/plain": [
       "<Figure size 432x288 with 1 Axes>"
      ]
     },
     "metadata": {
      "needs_background": "light"
     },
     "output_type": "display_data"
    },
    {
     "data": {
      "image/png": "[encoded data removed]",
      "text/plain": [
       "<Figure size 432x288 with 1 Axes>"
      ]
     },
     "metadata": {
      "needs_background": "light"
     },
     "output_type": "display_data"
    },
    {
     "data": {
      "image/png": "[encoded data removed]",
      "text/plain": [
       "<Figure size 432x288 with 1 Axes>"
      ]
     },
     "metadata": {
      "needs_background": "light"
     },
     "output_type": "display_data"
    },
    {
     "data": {
      "image/png": "[encoded data removed]",
      "text/plain": [
       "<Figure size 432x288 with 1 Axes>"
      ]
     },
     "metadata": {
      "needs_background": "light"
     },
     "output_type": "display_data"
    },
    {
     "data": {
      "image/png": "[encoded data removed]",
      "text/plain": [
       "<Figure size 432x288 with 1 Axes>"
      ]
     },
     "metadata": {
      "needs_background": "light"
     },
     "output_type": "display_data"
    }
   ],
   "source": [
    "\n",
    "# use randaugment to augment the image\n",
    "fig = plt.figure(figsize=(32, 32))\n",
    "for i in range(16):\n",
    "    ax = fig.add_subplot(4,4,i+1)\n",
    "    augmented_image = keras_cv.layers.RandAugment(value_range=(0, 255), magnitude=0.01)(X_test[12])\n",
    "    plt.imshow(augmented_image.numpy().astype(\"int\"))\n",
    "    plt.show()"
   ]
  },
  {
   "cell_type": "code",
   "execution_count": 11,
   "metadata": {},
   "outputs": [
    {
     "data": {
      "image/png": "[encoded data removed]",
      "text/plain": [
       "<Figure size 432x288 with 1 Axes>"
      ]
     },
     "metadata": {
      "needs_background": "light"
     },
     "output_type": "display_data"
    },
    {
     "name": "stderr",
     "output_type": "stream",
     "text": [
      "c:\\Users\\LG\\AppData\\Local\\Programs\\Python\\Python310\\lib\\site-packages\\keras\\preprocessing\\image.py:1446: UserWarning:\n",
      "\n",
      "This ImageDataGenerator specifies `zca_whitening`, which overrides setting of `featurewise_center`.\n",
      "\n",
      "Clipping input data to the valid range for imshow with RGB data ([0..1] for floats or [0..255] for integers).\n"
     ]
    },
    {
     "data": {
      "image/png": "[encoded data removed]",
      "text/plain": [
       "<Figure size 432x288 with 1 Axes>"
      ]
     },
     "metadata": {
      "needs_background": "light"
     },
     "output_type": "display_data"
    }
   ],
   "source": [
    "(X_train, y_train), (X_test, y_test) = cifar100.load_data()\n",
    "assert X_train.shape == (50000, 32, 32, 3)\n",
    "assert X_test.shape == (10000, 32, 32, 3)\n",
    "assert y_train.shape == (50000, 1)\n",
    "assert y_test.shape == (10000, 1)\n",
    "\n",
    "# split into train and val sets using train_test_split\n",
    "X_train, X_val, y_train, y_val = train_test_split(X_train, y_train, test_size=0.2, random_state=42, stratify=y_train)\n",
    "\n",
    "y_train = to_categorical(y_train)\n",
    "y_test = to_categorical(y_test)\n",
    "y_val = to_categorical(y_val)\n",
    "plt.imshow(X_train[12])\n",
    "plt.show()\n",
    "\n",
    "\n",
    "X_train_augmented = X_train.copy()\n",
    "y_train_augmented = y_train.copy()\n",
    "\n",
    "\n",
    "\n",
    "# ImageDataGenerator rotation\n",
    "datagen = ImageDataGenerator(\n",
    "\tfeaturewise_center=False,\n",
    "    samplewise_center=False,\n",
    "    featurewise_std_normalization=False,\n",
    "    samplewise_std_normalization=False,\n",
    "    zca_whitening=True,\n",
    "    zca_epsilon=1e-06,\n",
    "    rotation_range=90,\n",
    "    shear_range=0.2,\n",
    "    zoom_range=0.2,\n",
    "    channel_shift_range=0.02,\n",
    "    fill_mode='nearest',\n",
    "    cval=0.0,\n",
    "    horizontal_flip=True,\n",
    "    vertical_flip=True)\n",
    "\n",
    "\n",
    "datagen.fit(X_train_augmented)\n",
    "X_train_augmented = datagen.flow(X_train_augmented,y_train_augmented, batch_size = X_train.shape[0], shuffle=False).next()\n",
    "# change X_train_augmented to float32\n",
    "X_train_augmented = X_train_augmented[0].astype('float32')\n",
    "\n",
    "plt.imshow(X_train_augmented[12])\n",
    "plt.show()\n",
    "\n",
    "\n",
    "\n",
    "\n",
    "# concat the original and augmented data\n",
    "X_train = np.concatenate((X_train,X_train_augmented),axis=0)\n",
    "y_train = np.concatenate((y_train,y_train_augmented),axis=0)\n"
   ]
  },
  {
   "cell_type": "markdown",
   "metadata": {},
   "source": [
    "## Feature wise Normalizaion, Centering or Standardization does it help?\n",
    "\n",
    "- Pixel Normalization: scale pixel values to the range 0-1. \n",
    "- Pixel Centering: scale pixel values to have a zero mean. (images seem to be already centered)\n",
    "- Pixel Standardization: scale pixel values to have a zero mean and unit variance. (Images are already standardized as they all have pixels from 0 to 255)"
   ]
  },
  {
   "cell_type": "code",
   "execution_count": null,
   "metadata": {},
   "outputs": [],
   "source": []
  },
  {
   "cell_type": "markdown",
   "metadata": {},
   "source": [
    "# Dense Neural Network / Multi layer perceptrons (MLPs) \n",
    "## MLP is a Artificial Neural Network consisting of at least 3 layers ( input , hidden layer and output) "
   ]
  },
  {
   "cell_type": "code",
   "execution_count": 12,
   "metadata": {},
   "outputs": [],
   "source": [
    "def plot_loss(loss,test_loss):\n",
    "  plt.figure()\n",
    "  plt.plot(loss)\n",
    "  plt.plot(test_loss)\n",
    "  plt.title('Model loss')\n",
    "  plt.ylabel('Loss')\n",
    "  plt.xlabel('Epoch')\n",
    "  plt.legend(['Train', 'Test'], loc='upper right')\n",
    "  plt.show()\n",
    "\n",
    "def plot_accuracy(acc,test_acc):\n",
    "    plt.figure()\n",
    "    plt.plot(acc)\n",
    "    plt.plot(test_acc)\n",
    "    plt.title('Model accuracy')\n",
    "    plt.ylabel('Accuracy')\n",
    "    plt.xlabel('Epoch')\n",
    "    plt.legend(['Train', 'Test'], loc='upper right')\n",
    "    plt.show()\n",
    "  "
   ]
  },
  {
   "cell_type": "code",
   "execution_count": 17,
   "metadata": {},
   "outputs": [
    {
     "name": "stdout",
     "output_type": "stream",
     "text": [
      "Model: \"sequential_5\"\n",
      "_________________________________________________________________\n",
      " Layer (type)                Output Shape              Param #   \n",
      "=================================================================\n",
      " flatten_4 (Flatten)         (None, 3072)              0         \n",
      "                                                                 \n",
      " dense_18 (Dense)            (None, 128)               393344    \n",
      "                                                                 \n",
      " dense_19 (Dense)            (None, 64)                8256      \n",
      "                                                                 \n",
      " dense_20 (Dense)            (None, 32)                2080      \n",
      "                                                                 \n",
      " dense_21 (Dense)            (None, 100)               3300      \n",
      "                                                                 \n",
      "=================================================================\n",
      "Total params: 406,980\n",
      "Trainable params: 406,980\n",
      "Non-trainable params: 0\n",
      "_________________________________________________________________\n",
      "Epoch 1/10\n",
      "2500/2500 [==============================] - 14s 5ms/step - loss: 5.2406 - accuracy: 0.0122 - val_loss: 4.6076 - val_accuracy: 0.0100\n",
      "Epoch 2/10\n",
      "2500/2500 [==============================] - 12s 5ms/step - loss: 4.5398 - accuracy: 0.0214 - val_loss: 4.6118 - val_accuracy: 0.0100\n",
      "Epoch 3/10\n",
      "2500/2500 [==============================] - 13s 5ms/step - loss: 4.4179 - accuracy: 0.0374 - val_loss: 4.6121 - val_accuracy: 0.0100\n",
      "Epoch 4/10\n",
      "2500/2500 [==============================] - 14s 6ms/step - loss: 4.2434 - accuracy: 0.0595 - val_loss: 4.6108 - val_accuracy: 0.0100\n",
      "Epoch 5/10\n",
      "2500/2500 [==============================] - 12s 5ms/step - loss: 4.0601 - accuracy: 0.0860 - val_loss: 4.6094 - val_accuracy: 0.0100\n",
      "Epoch 6/10\n",
      "2500/2500 [==============================] - 13s 5ms/step - loss: 3.8881 - accuracy: 0.1141 - val_loss: 4.6081 - val_accuracy: 0.0100\n",
      "Epoch 7/10\n",
      "2500/2500 [==============================] - 13s 5ms/step - loss: 3.7077 - accuracy: 0.1477 - val_loss: 4.6071 - val_accuracy: 0.0100\n",
      "Epoch 8/10\n",
      "2500/2500 [==============================] - 13s 5ms/step - loss: 3.5525 - accuracy: 0.1789 - val_loss: 4.6083 - val_accuracy: 0.0100\n",
      "Epoch 9/10\n",
      "2500/2500 [==============================] - 13s 5ms/step - loss: 3.4253 - accuracy: 0.2054 - val_loss: 4.6154 - val_accuracy: 0.0100\n",
      "Epoch 10/10\n",
      "2500/2500 [==============================] - 13s 5ms/step - loss: 3.3065 - accuracy: 0.2326 - val_loss: 4.6062 - val_accuracy: 0.0100\n",
      "313/313 - 1s - loss: 4.6062 - accuracy: 0.0100 - 897ms/epoch - 3ms/step\n"
     ]
    },
    {
     "data": {
      "image/png": "[encoded data removed]",
      "text/plain": [
       "<Figure size 432x288 with 1 Axes>"
      ]
     },
     "metadata": {
      "needs_background": "light"
     },
     "output_type": "display_data"
    },
    {
     "data": {
      "image/png": "[encoded data removed]",
      "text/plain": [
       "<Figure size 432x288 with 1 Axes>"
      ]
     },
     "metadata": {
      "needs_background": "light"
     },
     "output_type": "display_data"
    }
   ],
   "source": [
    "model = Sequential()\n",
    "model.add(Flatten(input_shape=(32,32,3)))\n",
    "model.add(Dense(128, activation='relu'))\n",
    "model.add(Dense(64, activation='relu'))\n",
    "model.add(Dense(32, activation='relu'))\n",
    "model.add(Dense(100, activation='sigmoid'))\n",
    "\n",
    "model.compile(loss=\"categorical_crossentropy\", optimizer=\"adam\", metrics=[\"accuracy\"])\n",
    "model.summary()\n",
    "\n",
    "h_callback = model.fit(X_train, y_train,epochs = 10,\n",
    "               validation_data=(X_val, y_val))\n",
    "\n",
    "results=model.evaluate(X_test, y_test, batch_size=32, verbose=2)\n",
    "\n",
    "# Plot train vs test loss during training\n",
    "plot_loss(h_callback.history['loss'], h_callback.history['val_loss'])\n",
    "\n",
    "# Plot train vs test accuracy during training\n",
    "plot_accuracy(h_callback.history['accuracy'], h_callback.history['val_accuracy'])\n",
    "\n",
    "\n",
    "\n"
   ]
  },
  {
   "cell_type": "markdown",
   "metadata": {},
   "source": [
    "## Conclusion on MLP"
   ]
  },
  {
   "cell_type": "code",
   "execution_count": null,
   "metadata": {},
   "outputs": [],
   "source": [
    "# baseline cnn model for cifar mnist\n",
    "from numpy import mean\n",
    "from numpy import std\n",
    "from matplotlib import pyplot\n",
    "from sklearn.model_selection import KFold\n",
    "from keras.datasets import cifar_mnist\n",
    "from keras.utils import to_categorical\n",
    "from keras.models import Sequential\n",
    "from keras.layers import Conv2D\n",
    "from keras.layers import MaxPooling2D\n",
    "from keras.layers import Dense\n",
    "from keras.layers import Flatten\n",
    "from keras.optimizers import SGD\n",
    "from keras.callbacks import EarlyStopping\n",
    "\n",
    "\n",
    "# evaluate a model using k-fold cross-validation\n",
    "def evaluate_model(model,dataX, dataY, n_folds=5,valX=X_val,valy=y_val):\n",
    "\tscores, histories = list(), list()\n",
    "\t# prepare cross validation\n",
    "\tkfold = KFold(n_folds, shuffle=True, random_state=1)\n",
    "\t# enumerate splits\n",
    "\tfor train_ix, test_ix in kfold.split(dataX):\n",
    "\t\t# select rows for train and test\n",
    "\t\ttrainX, trainY, testX, testY = dataX[train_ix], dataY[train_ix], dataX[test_ix], dataY[test_ix]\n",
    "\t\th_callback = EarlyStopping(monitor='val_loss', patience=5)\n",
    "\t\t# fit model\n",
    "\t\thistory = model.fit(trainX, trainY, epochs=50, validation_data=(testX, testY), verbose=0,callbacks=[h_callback], batch_size=32) \n",
    "\t\t# evaluate model\n",
    "\t\t_, acc = model.evaluate(valX, valy, verbose=0)\n",
    "\t\tprint('> %.3f' % (acc * 100.0))\n",
    "\t\t# append scores\n",
    "\t\tscores.append(acc)\n",
    "\t\thistories.append(history)\n",
    "\treturn scores, histories\n",
    "\n",
    "# plot diagnostic learning curves\n",
    "def summarize_diagnostics(histories):\n",
    "\tfor i in range(len(histories)):\n",
    "\t\t# plot loss\n",
    "\t\tpyplot.subplot(211)\n",
    "\t\tpyplot.title('Cross Entropy Loss')\n",
    "\t\tpyplot.plot(histories[i].history['loss'], color='blue', label='train')\n",
    "\t\tpyplot.plot(histories[i].history['val_loss'], color='orange', label='test')\n",
    "\t\t# plot accuracy\n",
    "\t\tpyplot.subplot(212)\n",
    "\t\tpyplot.title('Classification Accuracy')\n",
    "\t\tpyplot.plot(histories[i].history['accuracy'], color='blue', label='train')\n",
    "\t\tpyplot.plot(histories[i].history['val_accuracy'], color='orange', label='test')\n",
    "\t\tpyplot.legend()\n",
    "\tpyplot.show()\n",
    "\n",
    "# summarize model performance\n",
    "def summarize_performance(scores):\n",
    "\t# print summary\n",
    "\tprint('Accuracy: mean=%.3f std=%.3f, n=%d' % (mean(scores)*100, std(scores)*100, len(scores)))\n",
    "\t# box and whisker plots of results\n",
    "\tpyplot.boxplot(scores)\n",
    "\tpyplot.show()\n",
    "\n",
    "# run the test harness for evaluating a model\n",
    "def run_test_harness(model,X_train, y_train):\n",
    "\t# evaluate model\n",
    "\tscores, histories = evaluate_model(model,X_train, y_train)\n",
    "\t# learning curves\n",
    "\tsummarize_diagnostics(histories)\n",
    "\t# summarize estimated performance\n",
    "\tsummarize_performance(scores)\n"
   ]
  },
  {
   "cell_type": "markdown",
   "metadata": {},
   "source": [
    "# CNNs \n",
    "### Max Pooling\n",
    "- With every stride the highest number found is retrieved in an area\n",
    "- Effective as a noise suppresant discarding all noisy activations and only taking the prominant feature in an area \n",
    "\n",
    "### Average Pooling \n",
    "- Retrieves the average of all the values in an area\n",
    "- may not perform as well as max pooling since it is just averaging the noise in images"
   ]
  },
  {
   "cell_type": "code",
   "execution_count": null,
   "metadata": {},
   "outputs": [],
   "source": [
    "def model_max_pooling():\n",
    "    # define model\n",
    "    model = Sequential()\n",
    "    model.add(Conv2D(32, kernel_size=(3, 3),activation='linear',input_shape=(32,32,3)))\n",
    "    model.add(MaxPooling2D((2, 2)))\n",
    "    model.add(Flatten())\n",
    "    model.add(Dense(128, activation='linear'))\n",
    "    model.add(Dense(num_classes, activation='softmax'))\n",
    "    # compile model\n",
    "    model.compile(loss='categorical_crossentropy', optimizer=keras.optimizers.Adam(),metrics=['accuracy'])\n",
    "    return model\n",
    "\n",
    "run_test_harness(model_max_pooling(),X_train, y_train)\n"
   ]
  },
  {
   "cell_type": "code",
   "execution_count": null,
   "metadata": {},
   "outputs": [],
   "source": [
    "from keras.layers import AveragePooling2D\n",
    "def model_average_pooling():\n",
    "    # define model\n",
    "    model = Sequential()\n",
    "    model.add(Conv2D(32, kernel_size=(3, 3),activation='linear',input_shape=(32,32,3)))\n",
    "    model.add(AveragePooling2D((2, 2)))\n",
    "    model.add(Flatten())\n",
    "    model.add(Dense(128, activation='linear'))\n",
    "    model.add(Dense(num_classes, activation='softmax'))\n",
    "    # compile model\n",
    "    model.compile(loss='categorical_crossentropy', optimizer=keras.optimizers.Adam(),metrics=['accuracy'])\n",
    "    return model"
   ]
  },
  {
   "cell_type": "markdown",
   "metadata": {},
   "source": [
    "### Conclusion Max Pooling or Average Pooling\n",
    "> "
   ]
  },
  {
   "cell_type": "markdown",
   "metadata": {},
   "source": [
    "# Padding ( is it important? )"
   ]
  },
  {
   "cell_type": "code",
   "execution_count": null,
   "metadata": {},
   "outputs": [],
   "source": [
    "def model_padding():\n",
    "    # define model\n",
    "    model = Sequential()\n",
    "    model.add(Conv2D(32, kernel_size=(3, 3),activation='linear',input_shape=(32,32,3)), padding='same')\n",
    "    model.add(MaxPooling2D((2, 2)), padding='same')\n",
    "    model.add(Flatten())\n",
    "    model.add(Dense(128, activation='linear'), padding='same')\n",
    "    model.add(Dense(num_classes, activation='softmax'))\n",
    "    # compile model\n",
    "    model.compile(loss='categorical_crossentropy', optimizer=keras.optimizers.Adam(),metrics=['accuracy'])\n",
    "    return model\n",
    "\n",
    "run_test_harness(model_padding(),X_train, y_train)"
   ]
  },
  {
   "cell_type": "markdown",
   "metadata": {},
   "source": [
    "# Batch Normalization"
   ]
  },
  {
   "cell_type": "code",
   "execution_count": null,
   "metadata": {},
   "outputs": [],
   "source": [
    "%%time\n",
    "from keras.layers import BatchNormalization\n",
    "def cifar_model_batch_norm():\n",
    "    cifar_model_batch = Sequential()\n",
    "    cifar_model_batch.add(Conv2D(32, kernel_size=(3, 3),activation='linear',input_shape=(32,32,3)))\n",
    "\n",
    "    cifar_model_batch.add(Conv2D(64, (3, 3), activation='linear'))\n",
    "    cifar_model_batch.add(BatchNormalization())\n",
    "    cifar_model_batch.add(Flatten())\n",
    "    cifar_model_batch.add(Dense(128, activation='linear'))\n",
    "    cifar_model_batch.add(Dense(num_classes, activation='softmax'))\n",
    "    cifar_model_batch.compile(loss='categorical_crossentropy', optimizer=keras.optimizers.Adam(),metrics=['accuracy'])\n",
    "    cifar_model_batch.summary()\n",
    "    return cifar_model_batch\n",
    "\n",
    "run_test_harness(cifar_model_batch_norm(),X_train, y_train)\n",
    "\n",
    "\n"
   ]
  },
  {
   "cell_type": "markdown",
   "metadata": {},
   "source": [
    "# Adding dropout"
   ]
  },
  {
   "cell_type": "code",
   "execution_count": null,
   "metadata": {},
   "outputs": [],
   "source": [
    "def model_dropout():\n",
    "    cifar_model = Sequential()\n",
    "    cifar_model.add(Conv2D(32, kernel_size=(3, 3),activation='relu',input_shape=(32,32,3)))\n",
    "    cifar_model.add(MaxPooling2D((2, 2)))\n",
    "    cifar_model.add(Conv2D(64, (3, 3), activation='relu'))\n",
    "    cifar_model.add(MaxPooling2D(pool_size=(2, 2)))\n",
    "    cifar_model.add(Conv2D(128, (3, 3), activation='relu'))\n",
    "    cifar_model.add(MaxPooling2D(pool_size=(2, 2)))\n",
    "    cifar_model.add(Flatten())\n",
    "    cifar_model.add(Dense(128, activation='relu'))\n",
    "    cifar_model.add(Dropout(0.2))\n",
    "    cifar_model.add(Dense(num_classes, activation='softmax'))\n",
    "\n",
    "    cifar_model.compile(loss='categorical_crossentropy', optimizer=keras.optimizers.Adam(),metrics=['accuracy'])\n",
    "    cifar_model.summary()\n",
    "    return cifar_model\n",
    "\n",
    "run_test_harness(model_dropout(),X_train, y_train)\n"
   ]
  },
  {
   "cell_type": "markdown",
   "metadata": {},
   "source": [
    "# Best Optimizers with Activation function"
   ]
  },
  {
   "cell_type": "code",
   "execution_count": null,
   "metadata": {},
   "outputs": [],
   "source": [
    "from keras.callbacks import ReduceLROnPlateau\n",
    "### function for looping through all the models\n",
    "def tune_model_act_opt(act,opt):\n",
    "    model = Sequential()\n",
    "    model.add(Conv2D(32, kernel_size=(3, 3),\n",
    "                    activation=act,\n",
    "                    kernel_initializer='he_normal',\n",
    "                    input_shape=(32,32,3)))\n",
    "    model.add(MaxPooling2D((2, 2)))\n",
    "    model.add(BatchNormalization())\n",
    "    model.add(Dropout(0.25))\n",
    "    model.add(Conv2D(64, (3, 3), activation=act))\n",
    "    model.add(BatchNormalization())\n",
    "    model.add(MaxPooling2D(pool_size=(2, 2)))\n",
    "    model.add(Dropout(0.25))\n",
    "    model.add(Conv2D(128, (3, 3), activation=act))\n",
    "    model.add(BatchNormalization())\n",
    "    model.add(Dropout(0.4))\n",
    "    model.add(Flatten())\n",
    "    model.add(Dense(128, activation=act))\n",
    "    model.add(Dropout(0.3))\n",
    "    model.add(Flatten())\n",
    "    model.add(Dense(10, activation='softmax'))  \n",
    "    # compile model\n",
    "    model.compile(loss='categorical_crossentropy', optimizer=opt,metrics=['accuracy'])\n",
    "    return model\n",
    "\n",
    "# plot diagnostic learning curves\n",
    "def summarize_diagnostics(histories,act,opt):\n",
    "\t\t# plot loss\n",
    "\tpyplot.subplot(211)\n",
    "\tpyplot.title(f'Cross Entropy Loss {act},{opt}')\n",
    "\tpyplot.plot(histories.history['loss'], color='blue', label='train')\n",
    "\tpyplot.plot(histories.history['val_loss'], color='orange', label='test')\n",
    "\t# plot accuracy\n",
    "\tpyplot.subplot(212)\n",
    "\tpyplot.title(f'Classification Accuracy {act},{opt}')\n",
    "\tpyplot.plot(histories.history['accuracy'], color='blue', label='train')\n",
    "\tpyplot.plot(histories.history['val_accuracy'], color='orange', label='test')\n",
    "\tpyplot.legend()\n",
    "\tpyplot.show()\n",
    "\n",
    "def run_test_harness_act_opt(act,opt,X_train, y_train, X_test, y_test,X_val,y_val):\n",
    "    model = tune_model_act_opt(act,opt)\n",
    "    # fit model\n",
    "    h_callback = EarlyStopping(monitor='val_accuracy', patience=5)\n",
    "    reduce_lr = ReduceLROnPlateau(monitor='val_loss', factor=0.2,\n",
    "                              patience=5, min_lr=0.001)\n",
    "    history = model.fit(X_train, y_train, epochs=100, batch_size=128,validation_data=(X_val, y_val), verbose=0 ,callbacks=[h_callback,reduce_lr])\n",
    "    # evaluate model\n",
    "    _, acc = model.evaluate(X_test, y_test, verbose=0)\n",
    "    print('> %.3f' % (acc * 100.0))\n",
    "    summarize_diagnostics(history,act,opt)\n",
    "    return (acc*100)\n",
    "    "
   ]
  },
  {
   "cell_type": "code",
   "execution_count": null,
   "metadata": {},
   "outputs": [
    {
     "ename": "ValueError",
     "evalue": "in user code:\n\n    File \"c:\\Users\\LG\\AppData\\Local\\Programs\\Python\\Python310\\lib\\site-packages\\keras\\engine\\training.py\", line 1160, in train_function  *\n        return step_function(self, iterator)\n    File \"c:\\Users\\LG\\AppData\\Local\\Programs\\Python\\Python310\\lib\\site-packages\\keras\\engine\\training.py\", line 1146, in step_function  **\n        outputs = model.distribute_strategy.run(run_step, args=(data,))\n    File \"c:\\Users\\LG\\AppData\\Local\\Programs\\Python\\Python310\\lib\\site-packages\\keras\\engine\\training.py\", line 1135, in run_step  **\n        outputs = model.train_step(data)\n    File \"c:\\Users\\LG\\AppData\\Local\\Programs\\Python\\Python310\\lib\\site-packages\\keras\\engine\\training.py\", line 993, in train_step\n        y_pred = self(x, training=True)\n    File \"c:\\Users\\LG\\AppData\\Local\\Programs\\Python\\Python310\\lib\\site-packages\\keras\\utils\\traceback_utils.py\", line 70, in error_handler\n        raise e.with_traceback(filtered_tb) from None\n    File \"c:\\Users\\LG\\AppData\\Local\\Programs\\Python\\Python310\\lib\\site-packages\\keras\\engine\\input_spec.py\", line 295, in assert_input_compatibility\n        raise ValueError(\n\n    ValueError: Input 0 of layer \"sequential_1\" is incompatible with the layer: expected shape=(None, 28, 28, 1), found shape=(None, 32, 32, 3)\n",
     "output_type": "error",
     "traceback": [
      "\u001b[1;31m---------------------------------------------------------------------------\u001b[0m",
      "\u001b[1;31mValueError\u001b[0m                                Traceback (most recent call last)",
      "\u001b[1;32mc:\\Users\\LG\\OneDrive - Singapore Polytechnic\\Desktop\\Year2Sem2\\DELE\\assignment\\CA1\\Cifar_100\\cifar.ipynb Cell 21\u001b[0m in \u001b[0;36m<module>\u001b[1;34m\u001b[0m\n\u001b[0;32m      <a href='vscode-notebook-cell:/c%3A/Users/LG/OneDrive%20-%20Singapore%20Polytechnic/Desktop/Year2Sem2/DELE/assignment/CA1/Cifar_100/cifar.ipynb#X26sZmlsZQ%3D%3D?line=5'>6</a>\u001b[0m act_opt \u001b[39m=\u001b[39m \u001b[39mlist\u001b[39m(product(activation_names,optimizers))\n\u001b[0;32m      <a href='vscode-notebook-cell:/c%3A/Users/LG/OneDrive%20-%20Singapore%20Polytechnic/Desktop/Year2Sem2/DELE/assignment/CA1/Cifar_100/cifar.ipynb#X26sZmlsZQ%3D%3D?line=7'>8</a>\u001b[0m \u001b[39mfor\u001b[39;00m act,opt \u001b[39min\u001b[39;00m product(activation,optimizers):\n\u001b[1;32m----> <a href='vscode-notebook-cell:/c%3A/Users/LG/OneDrive%20-%20Singapore%20Polytechnic/Desktop/Year2Sem2/DELE/assignment/CA1/Cifar_100/cifar.ipynb#X26sZmlsZQ%3D%3D?line=8'>9</a>\u001b[0m     acc \u001b[39m=\u001b[39m run_test_harness_act_opt(act,opt,X_train, y_train, X_test, y_test,X_val,y_val)\n\u001b[0;32m     <a href='vscode-notebook-cell:/c%3A/Users/LG/OneDrive%20-%20Singapore%20Polytechnic/Desktop/Year2Sem2/DELE/assignment/CA1/Cifar_100/cifar.ipynb#X26sZmlsZQ%3D%3D?line=9'>10</a>\u001b[0m     scores_act_opt\u001b[39m.\u001b[39mappend(acc)\n",
      "\u001b[1;32mc:\\Users\\LG\\OneDrive - Singapore Polytechnic\\Desktop\\Year2Sem2\\DELE\\assignment\\CA1\\Cifar_100\\cifar.ipynb Cell 21\u001b[0m in \u001b[0;36mrun_test_harness_act_opt\u001b[1;34m(act, opt, X_train, y_train, X_test, y_test, X_val, y_val)\u001b[0m\n\u001b[0;32m     <a href='vscode-notebook-cell:/c%3A/Users/LG/OneDrive%20-%20Singapore%20Polytechnic/Desktop/Year2Sem2/DELE/assignment/CA1/Cifar_100/cifar.ipynb#X26sZmlsZQ%3D%3D?line=45'>46</a>\u001b[0m h_callback \u001b[39m=\u001b[39m EarlyStopping(monitor\u001b[39m=\u001b[39m\u001b[39m'\u001b[39m\u001b[39mval_accuracy\u001b[39m\u001b[39m'\u001b[39m, patience\u001b[39m=\u001b[39m\u001b[39m5\u001b[39m)\n\u001b[0;32m     <a href='vscode-notebook-cell:/c%3A/Users/LG/OneDrive%20-%20Singapore%20Polytechnic/Desktop/Year2Sem2/DELE/assignment/CA1/Cifar_100/cifar.ipynb#X26sZmlsZQ%3D%3D?line=46'>47</a>\u001b[0m reduce_lr \u001b[39m=\u001b[39m ReduceLROnPlateau(monitor\u001b[39m=\u001b[39m\u001b[39m'\u001b[39m\u001b[39mval_loss\u001b[39m\u001b[39m'\u001b[39m, factor\u001b[39m=\u001b[39m\u001b[39m0.2\u001b[39m,\n\u001b[0;32m     <a href='vscode-notebook-cell:/c%3A/Users/LG/OneDrive%20-%20Singapore%20Polytechnic/Desktop/Year2Sem2/DELE/assignment/CA1/Cifar_100/cifar.ipynb#X26sZmlsZQ%3D%3D?line=47'>48</a>\u001b[0m                           patience\u001b[39m=\u001b[39m\u001b[39m5\u001b[39m, min_lr\u001b[39m=\u001b[39m\u001b[39m0.001\u001b[39m)\n\u001b[1;32m---> <a href='vscode-notebook-cell:/c%3A/Users/LG/OneDrive%20-%20Singapore%20Polytechnic/Desktop/Year2Sem2/DELE/assignment/CA1/Cifar_100/cifar.ipynb#X26sZmlsZQ%3D%3D?line=48'>49</a>\u001b[0m history \u001b[39m=\u001b[39m model\u001b[39m.\u001b[39;49mfit(X_train, y_train, epochs\u001b[39m=\u001b[39;49m\u001b[39m100\u001b[39;49m, batch_size\u001b[39m=\u001b[39;49m\u001b[39m128\u001b[39;49m,validation_data\u001b[39m=\u001b[39;49m(X_val, y_val), verbose\u001b[39m=\u001b[39;49m\u001b[39m0\u001b[39;49m ,callbacks\u001b[39m=\u001b[39;49m[h_callback,reduce_lr])\n\u001b[0;32m     <a href='vscode-notebook-cell:/c%3A/Users/LG/OneDrive%20-%20Singapore%20Polytechnic/Desktop/Year2Sem2/DELE/assignment/CA1/Cifar_100/cifar.ipynb#X26sZmlsZQ%3D%3D?line=49'>50</a>\u001b[0m \u001b[39m# evaluate model\u001b[39;00m\n\u001b[0;32m     <a href='vscode-notebook-cell:/c%3A/Users/LG/OneDrive%20-%20Singapore%20Polytechnic/Desktop/Year2Sem2/DELE/assignment/CA1/Cifar_100/cifar.ipynb#X26sZmlsZQ%3D%3D?line=50'>51</a>\u001b[0m _, acc \u001b[39m=\u001b[39m model\u001b[39m.\u001b[39mevaluate(X_test, y_test, verbose\u001b[39m=\u001b[39m\u001b[39m0\u001b[39m)\n",
      "File \u001b[1;32mc:\\Users\\LG\\AppData\\Local\\Programs\\Python\\Python310\\lib\\site-packages\\keras\\utils\\traceback_utils.py:70\u001b[0m, in \u001b[0;36mfilter_traceback.<locals>.error_handler\u001b[1;34m(*args, **kwargs)\u001b[0m\n\u001b[0;32m     67\u001b[0m     filtered_tb \u001b[39m=\u001b[39m _process_traceback_frames(e\u001b[39m.\u001b[39m__traceback__)\n\u001b[0;32m     68\u001b[0m     \u001b[39m# To get the full stack trace, call:\u001b[39;00m\n\u001b[0;32m     69\u001b[0m     \u001b[39m# `tf.debugging.disable_traceback_filtering()`\u001b[39;00m\n\u001b[1;32m---> 70\u001b[0m     \u001b[39mraise\u001b[39;00m e\u001b[39m.\u001b[39mwith_traceback(filtered_tb) \u001b[39mfrom\u001b[39;00m \u001b[39mNone\u001b[39m\n\u001b[0;32m     71\u001b[0m \u001b[39mfinally\u001b[39;00m:\n\u001b[0;32m     72\u001b[0m     \u001b[39mdel\u001b[39;00m filtered_tb\n",
      "File \u001b[1;32m~\\AppData\\Local\\Temp\\__autograph_generated_file3qx6hg2e.py:15\u001b[0m, in \u001b[0;36mouter_factory.<locals>.inner_factory.<locals>.tf__train_function\u001b[1;34m(iterator)\u001b[0m\n\u001b[0;32m     13\u001b[0m \u001b[39mtry\u001b[39;00m:\n\u001b[0;32m     14\u001b[0m     do_return \u001b[39m=\u001b[39m \u001b[39mTrue\u001b[39;00m\n\u001b[1;32m---> 15\u001b[0m     retval_ \u001b[39m=\u001b[39m ag__\u001b[39m.\u001b[39mconverted_call(ag__\u001b[39m.\u001b[39mld(step_function), (ag__\u001b[39m.\u001b[39mld(\u001b[39mself\u001b[39m), ag__\u001b[39m.\u001b[39mld(iterator)), \u001b[39mNone\u001b[39;00m, fscope)\n\u001b[0;32m     16\u001b[0m \u001b[39mexcept\u001b[39;00m:\n\u001b[0;32m     17\u001b[0m     do_return \u001b[39m=\u001b[39m \u001b[39mFalse\u001b[39;00m\n",
      "\u001b[1;31mValueError\u001b[0m: in user code:\n\n    File \"c:\\Users\\LG\\AppData\\Local\\Programs\\Python\\Python310\\lib\\site-packages\\keras\\engine\\training.py\", line 1160, in train_function  *\n        return step_function(self, iterator)\n    File \"c:\\Users\\LG\\AppData\\Local\\Programs\\Python\\Python310\\lib\\site-packages\\keras\\engine\\training.py\", line 1146, in step_function  **\n        outputs = model.distribute_strategy.run(run_step, args=(data,))\n    File \"c:\\Users\\LG\\AppData\\Local\\Programs\\Python\\Python310\\lib\\site-packages\\keras\\engine\\training.py\", line 1135, in run_step  **\n        outputs = model.train_step(data)\n    File \"c:\\Users\\LG\\AppData\\Local\\Programs\\Python\\Python310\\lib\\site-packages\\keras\\engine\\training.py\", line 993, in train_step\n        y_pred = self(x, training=True)\n    File \"c:\\Users\\LG\\AppData\\Local\\Programs\\Python\\Python310\\lib\\site-packages\\keras\\utils\\traceback_utils.py\", line 70, in error_handler\n        raise e.with_traceback(filtered_tb) from None\n    File \"c:\\Users\\LG\\AppData\\Local\\Programs\\Python\\Python310\\lib\\site-packages\\keras\\engine\\input_spec.py\", line 295, in assert_input_compatibility\n        raise ValueError(\n\n    ValueError: Input 0 of layer \"sequential_1\" is incompatible with the layer: expected shape=(None, 28, 28, 1), found shape=(None, 32, 32, 3)\n"
     ]
    }
   ],
   "source": [
    "from itertools import product\n",
    "optimizers = ['adam', 'sgd', 'rmsprop', 'adagrad', 'adadelta', 'adamax', 'nadam']\n",
    "activation = ['relu', 'selu', 'elu', 'tanh',LeakyReLU(alpha=0.01)]\n",
    "scores_act_opt = list()\n",
    "activation_names = ['relu', 'selu', 'elu', 'tanh','LeakyReLU']\n",
    "act_opt = list(product(activation_names,optimizers))\n",
    "\n",
    "for act,opt in product(activation,optimizers):\n",
    "    acc = run_test_harness_act_opt(act,opt,X_train, y_train, X_test, y_test,X_val,y_val)\n",
    "    scores_act_opt.append(acc)\n",
    "    \n",
    "\n"
   ]
  },
  {
   "cell_type": "markdown",
   "metadata": {},
   "source": [
    "# Regularization \n",
    "## L1"
   ]
  },
  {
   "cell_type": "code",
   "execution_count": null,
   "metadata": {},
   "outputs": [],
   "source": [
    "import tensorflow\n",
    "model = Sequential()\n",
    "model.add(Conv2D(32, kernel_size=(3, 3),\n",
    "                activation='relu',\n",
    "                kernel_initializer='he_normal',\n",
    "                input_shape=(32,32,3)))\n",
    "model.add(MaxPooling2D((2, 2)))\n",
    "model.add(Dropout(0.25))\n",
    "model.add(Conv2D(64, (3, 3), activation='relu'))\n",
    "model.add(MaxPooling2D(pool_size=(2, 2)))\n",
    "model.add(Dropout(0.25))\n",
    "model.add(Conv2D(128, (3, 3), activation='relu'))\n",
    "model.add(Dropout(0.4))\n",
    "model.add(Flatten())\n",
    "model.add(Dense(128, activation='relu'))\n",
    "model.add(Dropout(0.3))\n",
    "model.add(Flatten())\n",
    "model.add(Dense(10, activation='softmax', kernel_regularizer=tensorflow.keras.regularizers.L1(l1=0.05)))\n",
    "#loop through the optimizers\n",
    "model.compile(optimizer='adam',\n",
    "loss=tf.keras.losses.categorical_crossentropy,\n",
    "metrics=['accuracy'])  \n",
    "model.summary()\n",
    "\n",
    "early_stopping = EarlyStopping(monitor='val_loss', patience=10, verbose=1)\n",
    "reduce_lr = ReduceLROnPlateau(monitor='val_loss', factor=0.2,\n",
    "                                patience=5, min_lr=0.001)\n",
    "\n",
    "h_callback = model.fit(X_train, y_train, epochs = 100,\n",
    "                validation_data=(X_val, y_val), callbacks=[early_stopping,reduce_lr])\n",
    "# Plot train vs test loss during training\n",
    "plot_loss(h_callback.history['loss'], h_callback.history['val_loss'])\n",
    "plot_accuracy(h_callback.history['accuracy'], h_callback.history['val_accuracy'])\n"
   ]
  },
  {
   "cell_type": "markdown",
   "metadata": {},
   "source": [
    "## L2"
   ]
  },
  {
   "cell_type": "code",
   "execution_count": null,
   "metadata": {},
   "outputs": [],
   "source": [
    "import tensorflow\n",
    "model = Sequential()\n",
    "model.add(Conv2D(32, kernel_size=(3, 3),\n",
    "                activation='relu',\n",
    "                kernel_initializer='he_normal',\n",
    "                input_shape=(32,32,3)))\n",
    "model.add(MaxPooling2D((2, 2)))\n",
    "model.add(Dropout(0.25))\n",
    "model.add(Conv2D(64, (3, 3), activation='relu'))\n",
    "model.add(MaxPooling2D(pool_size=(2, 2)))\n",
    "model.add(Dropout(0.25))\n",
    "model.add(Conv2D(128, (3, 3), activation='relu'))\n",
    "model.add(Dropout(0.4))\n",
    "model.add(Flatten())\n",
    "model.add(Dense(128, activation='relu'))\n",
    "model.add(Dropout(0.3))\n",
    "model.add(Flatten())\n",
    "model.add(Dense(10, activation='softmax', kernel_regularizer=tensorflow.keras.regularizers.L2(l2=0.05)))\n",
    "#loop through the optimizers\n",
    "model.compile(optimizer='adam',\n",
    "loss=tf.keras.losses.categorical_crossentropy,\n",
    "metrics=['accuracy'])  \n",
    "model.summary()\n",
    "\n",
    "early_stopping = EarlyStopping(monitor='val_loss', patience=10, verbose=1)\n",
    "reduce_lr = ReduceLROnPlateau(monitor='val_loss', factor=0.2,\n",
    "                                patience=5, min_lr=0.001)\n",
    "\n",
    "h_callback = model.fit(X_train, y_train, epochs = 100,\n",
    "                validation_data=(X_val, y_val), callbacks=[early_stopping,reduce_lr])\n",
    "\n",
    "# Plot train vs test loss during training\n",
    "plot_loss(h_callback.history['loss'], h_callback.history['val_loss'])\n",
    "plot_accuracy(h_callback.history['accuracy'], h_callback.history['val_accuracy'])\n"
   ]
  },
  {
   "cell_type": "markdown",
   "metadata": {},
   "source": [
    "## L1L2"
   ]
  },
  {
   "cell_type": "code",
   "execution_count": null,
   "metadata": {},
   "outputs": [],
   "source": [
    "import tensorflow\n",
    "model = Sequential()\n",
    "model.add(Conv2D(32, kernel_size=(3, 3),\n",
    "                activation='relu',\n",
    "                kernel_initializer='he_normal',\n",
    "                input_shape=(32,32,3)))\n",
    "model.add(MaxPooling2D((2, 2)))\n",
    "model.add(Dropout(0.25))\n",
    "model.add(Conv2D(64, (3, 3), activation='relu'))\n",
    "model.add(MaxPooling2D(pool_size=(2, 2)))\n",
    "model.add(Dropout(0.25))\n",
    "model.add(Conv2D(128, (3, 3), activation='relu'))\n",
    "model.add(Dropout(0.4))\n",
    "model.add(Flatten())\n",
    "model.add(Dense(128, activation='relu'))\n",
    "model.add(Dropout(0.3))\n",
    "model.add(Flatten())\n",
    "model.add(Dense(10, activation='softmax', kernel_regularizer=tensorflow.keras.regularizers.L1L2(l1=0.01, l2=0.01)))\n",
    "#loop through the optimizers\n",
    "model.compile(optimizer='adam',\n",
    "loss=tf.keras.losses.categorical_crossentropy,\n",
    "metrics=['accuracy'])  \n",
    "model.summary()\n",
    "\n",
    "early_stopping = EarlyStopping(monitor='val_loss', patience=10, verbose=1)\n",
    "reduce_lr = ReduceLROnPlateau(monitor='val_loss', factor=0.2,\n",
    "                                patience=5, min_lr=0.001)\n",
    "\n",
    "h_callback = model.fit(X_train, y_train, epochs = 100,\n",
    "                validation_data=(X_val, y_val), callbacks=[early_stopping,reduce_lr])\n",
    "\n",
    "# Plot train vs test loss during training\n",
    "plot_loss(h_callback.history['loss'], h_callback.history['val_loss'])\n",
    "plot_accuracy(h_callback.history['accuracy'], h_callback.history['val_accuracy'])\n"
   ]
  },
  {
   "cell_type": "markdown",
   "metadata": {},
   "source": [
    "# Keras tuner model 1 "
   ]
  },
  {
   "cell_type": "code",
   "execution_count": null,
   "metadata": {},
   "outputs": [],
   "source": [
    "import keras_tuner\n",
    "from tensorflow import keras\n",
    "def build_model(hp):\n",
    "  model = keras.Sequential()\n",
    "  model.add(keras.layers.Dense(\n",
    "      hp.Choice('units', [8, 16, 32]),\n",
    "      activation='relu'))\n",
    "  model.add(keras.layers.Dense(1, activation='relu'))\n",
    "  model.compile(loss='mse')\n",
    "  return model\n",
    "\n",
    "tuner = keras_tuner.RandomSearch(\n",
    "    build_model,\n",
    "    objective='val_loss',\n",
    "    max_trials=5)\n",
    "\n",
    "tuner.search(x_train, y_train, epochs=5, validation_data=(x_val, y_val))\n",
    "best_model = tuner.get_best_models()[0]"
   ]
  },
  {
   "cell_type": "code",
   "execution_count": null,
   "metadata": {},
   "outputs": [],
   "source": [
    "inputs = keras.Input(shape=(32, 32, 3), name=\"img\")\n",
    "x = layers.Conv2D(32, 3, activation=\"relu\")(inputs)\n",
    "x = layers.Conv2D(64, 3, activation=\"relu\")(x)\n",
    "block_1_output = layers.MaxPooling2D(3)(x)\n",
    "\n",
    "x = layers.Conv2D(64, 3, activation=\"relu\", padding=\"same\")(block_1_output)\n",
    "x = layers.Conv2D(64, 3, activation=\"relu\", padding=\"same\")(x)\n",
    "block_2_output = layers.add([x, block_1_output])\n",
    "\n",
    "x = layers.Conv2D(64, 3, activation=\"relu\", padding=\"same\")(block_2_output)\n",
    "x = layers.Conv2D(64, 3, activation=\"relu\", padding=\"same\")(x)\n",
    "block_3_output = layers.add([x, block_2_output])\n",
    "\n",
    "x = layers.Conv2D(64, 3, activation=\"relu\")(block_3_output)\n",
    "x = layers.GlobalAveragePooling2D()(x)\n",
    "x = layers.Dense(256, activation=\"relu\")(x)\n",
    "x = layers.Dropout(0.5)(x)\n",
    "outputs = layers.Dense(10)(x)\n",
    "\n",
    "model = keras.Model(inputs, outputs, name=\"toy_resnet\")\n",
    "model.summary()\n",
    "keras.utils.plot_model(model, \"mini_resnet.png\", show_shapes=True)"
   ]
  },
  {
   "cell_type": "code",
   "execution_count": null,
   "metadata": {},
   "outputs": [],
   "source": [
    "model.compile(\n",
    "    optimizer=keras.optimizers.RMSprop(1e-3),\n",
    "    loss=keras.losses.CategoricalCrossentropy(from_logits=True),\n",
    "    metrics=[\"acc\"],\n",
    ")\n",
    " \n",
    "toy_resnet = model.fit(X_train, y_train, batch_size=64, epochs=100, validation_data = [X_val, y_val], callbacks=[early_stopping,reduce_lr])\n",
    "plot_accuracy_and_loss(toy_resnet)\n"
   ]
  },
  {
   "cell_type": "markdown",
   "metadata": {},
   "source": [
    "# Exploring on Cifar 10 (coarse)"
   ]
  },
  {
   "cell_type": "code",
   "execution_count": null,
   "metadata": {},
   "outputs": [],
   "source": [
    "# import cifar 10\n",
    "(X_train, y_train), (X_test, y_test) = cifar100.load_data(label_mode=\"coarse\")\n",
    "assert X_train.shape == (50000, 32, 32, 3)\n",
    "assert X_test.shape == (10000, 32, 32, 3)\n",
    "assert y_train.shape == (50000, 1)\n",
    "assert y_test.shape == (10000, 1)\n",
    "\n",
    "# split train and validation set\n",
    "from sklearn.model_selection import train_test_split\n",
    "X_train, X_val, y_train, y_val = train_test_split(X_train, y_train, test_size=0.2, random_state=42, stratify=y_train)\n",
    "\n",
    "\n",
    "print(\"X_train shape:\", X_train.shape, \"y_train shape:\", y_train.shape)\n",
    "print(\"X_test shape:\", X_test.shape, \"y_test shape:\", y_test.shape)\n",
    "\n",
    "# print unique classes count\n",
    "print(\"Unique classes count:\", len(np.unique(y_train)))\n",
    "\n",
    "# print number of samples in each class\n",
    "y_train_df = pd.DataFrame(y_train)\n",
    "print(y_train_df[0].value_counts())\n",
    "\n",
    "y_test_label = y_test\n",
    "y_train = to_categorical(y_train)\n",
    "y_test = to_categorical(y_test)\n",
    "y_val = to_categorical(y_val)\n",
    "print('after',y_train.shape,y_test.shape)\n"
   ]
  },
  {
   "cell_type": "markdown",
   "metadata": {},
   "source": [
    "# Data augmentation"
   ]
  },
  {
   "cell_type": "code",
   "execution_count": null,
   "metadata": {},
   "outputs": [],
   "source": [
    "X_train_augmented = X_train.copy()\n",
    "y_train_augmented = y_train.copy()\n",
    "\n",
    "\n",
    "\n",
    "# ImageDataGenerator rotation\n",
    "datagen = ImageDataGenerator(\n",
    "\tfeaturewise_center=False,\n",
    "    samplewise_center=False,\n",
    "    featurewise_std_normalization=False,\n",
    "    samplewise_std_normalization=False,\n",
    "    zca_whitening=True,\n",
    "    zca_epsilon=1e-06,\n",
    "    rotation_range=90,\n",
    "    shear_range=0.2,\n",
    "    zoom_range=0.2,\n",
    "    channel_shift_range=0.02,\n",
    "    fill_mode='nearest',\n",
    "    cval=0.0,\n",
    "    horizontal_flip=True,\n",
    "    vertical_flip=True)\n",
    "\n",
    "\n",
    "datagen.fit(X_train_augmented)\n",
    "X_train_augmented = datagen.flow(X_train_augmented,y_train_augmented, batch_size = X_train.shape[0], shuffle=False).next()\n",
    "# change X_train_augmented to float32\n",
    "X_train_augmented = X_train_augmented[0].astype('float32')\n",
    "\n",
    "plt.imshow(X_train_augmented[12])\n",
    "plt.show()\n",
    "\n",
    "\n",
    "\n",
    "\n",
    "# concat the original and augmented data\n",
    "X_train = np.concatenate((X_train,X_train_augmented),axis=0)\n",
    "y_train = np.concatenate((y_train,y_train_augmented),axis=0)\n"
   ]
  },
  {
   "cell_type": "code",
   "execution_count": null,
   "metadata": {},
   "outputs": [],
   "source": [
    "\n",
    "\n",
    "epochs = 15\n",
    "num_classes = 20\n",
    "seed = np.random.seed(1)\n",
    "\n",
    "\n",
    "\n",
    "\n",
    "\n",
    "\n",
    "model = Sequential()\n",
    "model.add(layers.Conv2D(32, (3, 3), activation='relu', input_shape=(32, 32, 3)))\n",
    "model.add(layers.MaxPooling2D((2, 2)))\n",
    "model.add(layers.Conv2D(64, (3, 3), activation='relu'))\n",
    "model.add(layers.MaxPooling2D((2, 2)))\n",
    "model.add(layers.Conv2D(64, (3, 3), activation='relu'))\n",
    "model.add(layers.Flatten())\n",
    "model.add(layers.Dense(64, activation='relu'))\n",
    "model.add(layers.Dense(20))\n",
    "model.compile(optimizer='adam',loss='categorical_crossentropy',metrics=['accuracy'])\n",
    "\n",
    "early_stopping = EarlyStopping(monitor='val_loss', patience=20, verbose=1)\n",
    "mc = ModelCheckpoint('dummy_model_20.h5', monitor='val_accuracy', mode='max', verbose=1, save_best_only=True)\n",
    "\n",
    "\n",
    "h_callback = model.fit(X_train, y_train, epochs = 10,\n",
    "               validation_data=(X_val, y_val) , callbacks=[early_stopping, mc])\n",
    "\n",
    "# Plot train vs test loss during training \n",
    "plot_accuracy_and_loss(h_callback)\n",
    "\n"
   ]
  },
  {
   "cell_type": "markdown",
   "metadata": {},
   "source": [
    "# Feature wise Normalizaion, Centering or Standardization does it help?\n",
    "\n",
    "- Pixel Normalization: scale pixel values to the range 0-1. \n",
    "- Pixel Centering: scale pixel values to have a zero mean. (images seem to be already centered)\n",
    "- Pixel Standardization: scale pixel values to have a zero mean and unit variance. (Images are already standardized as they all have pixels from 0 to 255)"
   ]
  },
  {
   "cell_type": "code",
   "execution_count": null,
   "metadata": {},
   "outputs": [],
   "source": []
  },
  {
   "cell_type": "code",
   "execution_count": null,
   "metadata": {},
   "outputs": [],
   "source": [
    "# baseline cnn model for cifar mnist\n",
    "from numpy import mean\n",
    "from numpy import std\n",
    "from matplotlib import pyplot\n",
    "from sklearn.model_selection import KFold\n",
    "from keras.datasets import cifar_mnist\n",
    "from keras.utils import to_categorical\n",
    "from keras.models import Sequential\n",
    "from keras.layers import Conv2D\n",
    "from keras.layers import MaxPooling2D\n",
    "from keras.layers import Dense\n",
    "from keras.layers import Flatten\n",
    "from keras.optimizers import SGD\n",
    "from keras.callbacks import EarlyStopping\n",
    "\n",
    "\n",
    "# evaluate a model using k-fold cross-validation\n",
    "def evaluate_model(model,dataX, dataY, n_folds=5,valX=X_val,valy=y_val):\n",
    "\tscores, histories = list(), list()\n",
    "\t# prepare cross validation\n",
    "\tkfold = KFold(n_folds, shuffle=True, random_state=1)\n",
    "\t# enumerate splits\n",
    "\tfor train_ix, test_ix in kfold.split(dataX):\n",
    "\t\t# select rows for train and test\n",
    "\t\ttrainX, trainY, testX, testY = dataX[train_ix], dataY[train_ix], dataX[test_ix], dataY[test_ix]\n",
    "\t\th_callback = EarlyStopping(monitor='val_loss', patience=5)\n",
    "\t\t# fit model\n",
    "\t\thistory = model.fit(trainX, trainY, epochs=50, validation_data=(testX, testY), verbose=0,callbacks=[h_callback], batch_size=32) \n",
    "\t\t# evaluate model\n",
    "\t\t_, acc = model.evaluate(valX, valy, verbose=0)\n",
    "\t\tprint('> %.3f' % (acc * 100.0))\n",
    "\t\t# append scores\n",
    "\t\tscores.append(acc)\n",
    "\t\thistories.append(history)\n",
    "\treturn scores, histories\n",
    "\n",
    "# plot diagnostic learning curves\n",
    "def summarize_diagnostics(histories):\n",
    "\tfor i in range(len(histories)):\n",
    "\t\t# plot loss\n",
    "\t\tpyplot.subplot(211)\n",
    "\t\tpyplot.title('Cross Entropy Loss')\n",
    "\t\tpyplot.plot(histories[i].history['loss'], color='blue', label='train')\n",
    "\t\tpyplot.plot(histories[i].history['val_loss'], color='orange', label='test')\n",
    "\t\t# plot accuracy\n",
    "\t\tpyplot.subplot(212)\n",
    "\t\tpyplot.title('Classification Accuracy')\n",
    "\t\tpyplot.plot(histories[i].history['accuracy'], color='blue', label='train')\n",
    "\t\tpyplot.plot(histories[i].history['val_accuracy'], color='orange', label='test')\n",
    "\t\tpyplot.legend()\n",
    "\tpyplot.show()\n",
    "\n",
    "# summarize model performance\n",
    "def summarize_performance(scores):\n",
    "\t# print summary\n",
    "\tprint('Accuracy: mean=%.3f std=%.3f, n=%d' % (mean(scores)*100, std(scores)*100, len(scores)))\n",
    "\t# box and whisker plots of results\n",
    "\tpyplot.boxplot(scores)\n",
    "\tpyplot.show()\n",
    "\n",
    "# run the test harness for evaluating a model\n",
    "def run_test_harness(model,X_train, y_train):\n",
    "\t# evaluate model\n",
    "\tscores, histories = evaluate_model(model,X_train, y_train)\n",
    "\t# learning curves\n",
    "\tsummarize_diagnostics(histories)\n",
    "\t# summarize estimated performance\n",
    "\tsummarize_performance(scores)\n"
   ]
  },
  {
   "cell_type": "markdown",
   "metadata": {},
   "source": [
    "# CNNs \n",
    "### Max Pooling\n",
    "- With every stride the highest number found is retrieved in an area\n",
    "- Effective as a noise suppresant discarding all noisy activations and only taking the prominant feature in an area \n",
    "\n",
    "### Average Pooling \n",
    "- Retrieves the average of all the values in an area\n",
    "- may not perform as well as max pooling since it is just averaging the noise in images"
   ]
  },
  {
   "cell_type": "code",
   "execution_count": null,
   "metadata": {},
   "outputs": [],
   "source": [
    "def model_max_pooling():\n",
    "    # define model\n",
    "    model = Sequential()\n",
    "    model.add(Conv2D(32, kernel_size=(3, 3),activation='linear',input_shape=(32,32,3)))\n",
    "    model.add(MaxPooling2D((2, 2)))\n",
    "    model.add(Flatten())\n",
    "    model.add(Dense(128, activation='linear'))\n",
    "    model.add(Dense(num_classes, activation='softmax'))\n",
    "    # compile model\n",
    "    model.compile(loss='categorical_crossentropy', optimizer=keras.optimizers.Adam(),metrics=['accuracy'])\n",
    "    return model\n",
    "\n",
    "run_test_harness(model_max_pooling(),X_train, y_train)\n"
   ]
  },
  {
   "cell_type": "code",
   "execution_count": null,
   "metadata": {},
   "outputs": [],
   "source": [
    "from keras.layers import AveragePooling2D\n",
    "def model_average_pooling():\n",
    "    # define model\n",
    "    model = Sequential()\n",
    "    model.add(Conv2D(32, kernel_size=(3, 3),activation='linear',input_shape=(32,32,3)))\n",
    "    model.add(AveragePooling2D((2, 2)))\n",
    "    model.add(Flatten())\n",
    "    model.add(Dense(128, activation='linear'))\n",
    "    model.add(Dense(num_classes, activation='softmax'))\n",
    "    # compile model\n",
    "    model.compile(loss='categorical_crossentropy', optimizer=keras.optimizers.Adam(),metrics=['accuracy'])\n",
    "    return model"
   ]
  },
  {
   "cell_type": "markdown",
   "metadata": {},
   "source": [
    "### Conclusion Max Pooling or Average Pooling\n",
    "> "
   ]
  },
  {
   "cell_type": "markdown",
   "metadata": {},
   "source": [
    "# Padding ( is it important? )"
   ]
  },
  {
   "cell_type": "code",
   "execution_count": null,
   "metadata": {},
   "outputs": [],
   "source": [
    "def model_padding():\n",
    "    # define model\n",
    "    model = Sequential()\n",
    "    model.add(Conv2D(32, kernel_size=(3, 3),activation='linear',input_shape=(32,32,3)), padding='same')\n",
    "    model.add(MaxPooling2D((2, 2)), padding='same')\n",
    "    model.add(Flatten())\n",
    "    model.add(Dense(128, activation='linear'), padding='same')\n",
    "    model.add(Dense(num_classes, activation='softmax'))\n",
    "    # compile model\n",
    "    model.compile(loss='categorical_crossentropy', optimizer=keras.optimizers.Adam(),metrics=['accuracy'])\n",
    "    return model\n",
    "\n",
    "run_test_harness(model_padding(),X_train, y_train)"
   ]
  },
  {
   "cell_type": "markdown",
   "metadata": {},
   "source": [
    "# Batch Normalization"
   ]
  },
  {
   "cell_type": "code",
   "execution_count": null,
   "metadata": {},
   "outputs": [],
   "source": [
    "%%time\n",
    "from keras.layers import BatchNormalization\n",
    "def cifar_model_batch_norm():\n",
    "    cifar_model_batch = Sequential()\n",
    "    cifar_model_batch.add(Conv2D(32, kernel_size=(3, 3),activation='linear',input_shape=(32,32,3)))\n",
    "\n",
    "    cifar_model_batch.add(Conv2D(64, (3, 3), activation='linear'))\n",
    "    cifar_model_batch.add(BatchNormalization())\n",
    "    cifar_model_batch.add(Flatten())\n",
    "    cifar_model_batch.add(Dense(128, activation='linear'))\n",
    "    cifar_model_batch.add(Dense(num_classes, activation='softmax'))\n",
    "    cifar_model_batch.compile(loss='categorical_crossentropy', optimizer=keras.optimizers.Adam(),metrics=['accuracy'])\n",
    "    cifar_model_batch.summary()\n",
    "    return cifar_model_batch\n",
    "\n",
    "run_test_harness(cifar_model_batch_norm(),X_train, y_train)\n",
    "\n",
    "\n"
   ]
  },
  {
   "cell_type": "markdown",
   "metadata": {},
   "source": [
    "# Adding dropout"
   ]
  },
  {
   "cell_type": "code",
   "execution_count": null,
   "metadata": {},
   "outputs": [],
   "source": [
    "def model_dropout():\n",
    "    cifar_model = Sequential()\n",
    "    cifar_model.add(Conv2D(32, kernel_size=(3, 3),activation='relu',input_shape=(32,32,3)))\n",
    "    cifar_model.add(MaxPooling2D((2, 2)))\n",
    "    cifar_model.add(Conv2D(64, (3, 3), activation='relu'))\n",
    "    cifar_model.add(MaxPooling2D(pool_size=(2, 2)))\n",
    "    cifar_model.add(Conv2D(128, (3, 3), activation='relu'))\n",
    "    cifar_model.add(MaxPooling2D(pool_size=(2, 2)))\n",
    "    cifar_model.add(Flatten())\n",
    "    cifar_model.add(Dense(128, activation='relu'))\n",
    "    cifar_model.add(Dropout(0.2))\n",
    "    cifar_model.add(Dense(num_classes, activation='softmax'))\n",
    "\n",
    "    cifar_model.compile(loss='categorical_crossentropy', optimizer=keras.optimizers.Adam(),metrics=['accuracy'])\n",
    "    cifar_model.summary()\n",
    "    return cifar_model\n",
    "\n",
    "run_test_harness(model_dropout(),X_train, y_train)\n"
   ]
  },
  {
   "cell_type": "markdown",
   "metadata": {},
   "source": [
    "# Best Optimizers with Activation function"
   ]
  },
  {
   "cell_type": "code",
   "execution_count": null,
   "metadata": {},
   "outputs": [],
   "source": [
    "from keras.callbacks import ReduceLROnPlateau\n",
    "### function for looping through all the models\n",
    "def tune_model_act_opt(act,opt):\n",
    "    model = Sequential()\n",
    "    model.add(Conv2D(32, kernel_size=(3, 3),\n",
    "                    activation=act,\n",
    "                    kernel_initializer='he_normal',\n",
    "                    input_shape=(32,32,3)))\n",
    "    model.add(MaxPooling2D((2, 2)))\n",
    "    model.add(BatchNormalization())\n",
    "    model.add(Dropout(0.25))\n",
    "    model.add(Conv2D(64, (3, 3), activation=act))\n",
    "    model.add(BatchNormalization())\n",
    "    model.add(MaxPooling2D(pool_size=(2, 2)))\n",
    "    model.add(Dropout(0.25))\n",
    "    model.add(Conv2D(128, (3, 3), activation=act))\n",
    "    model.add(BatchNormalization())\n",
    "    model.add(Dropout(0.4))\n",
    "    model.add(Flatten())\n",
    "    model.add(Dense(128, activation=act))\n",
    "    model.add(Dropout(0.3))\n",
    "    model.add(Flatten())\n",
    "    model.add(Dense(10, activation='softmax'))  \n",
    "    # compile model\n",
    "    model.compile(loss='categorical_crossentropy', optimizer=opt,metrics=['accuracy'])\n",
    "    return model\n",
    "\n",
    "# plot diagnostic learning curves\n",
    "def summarize_diagnostics(histories,act,opt):\n",
    "\t\t# plot loss\n",
    "\tpyplot.subplot(211)\n",
    "\tpyplot.title(f'Cross Entropy Loss {act},{opt}')\n",
    "\tpyplot.plot(histories.history['loss'], color='blue', label='train')\n",
    "\tpyplot.plot(histories.history['val_loss'], color='orange', label='test')\n",
    "\t# plot accuracy\n",
    "\tpyplot.subplot(212)\n",
    "\tpyplot.title(f'Classification Accuracy {act},{opt}')\n",
    "\tpyplot.plot(histories.history['accuracy'], color='blue', label='train')\n",
    "\tpyplot.plot(histories.history['val_accuracy'], color='orange', label='test')\n",
    "\tpyplot.legend()\n",
    "\tpyplot.show()\n",
    "\n",
    "def run_test_harness_act_opt(act,opt,X_train, y_train, X_test, y_test,X_val,y_val):\n",
    "    model = tune_model_act_opt(act,opt)\n",
    "    # fit model\n",
    "    h_callback = EarlyStopping(monitor='val_accuracy', patience=5)\n",
    "    reduce_lr = ReduceLROnPlateau(monitor='val_loss', factor=0.2,\n",
    "                              patience=5, min_lr=0.001)\n",
    "    history = model.fit(X_train, y_train, epochs=100, batch_size=128,validation_data=(X_val, y_val), verbose=0 ,callbacks=[h_callback,reduce_lr])\n",
    "    # evaluate model\n",
    "    _, acc = model.evaluate(X_test, y_test, verbose=0)\n",
    "    print('> %.3f' % (acc * 100.0))\n",
    "    summarize_diagnostics(history,act,opt)\n",
    "    return (acc*100)\n",
    "    "
   ]
  },
  {
   "cell_type": "code",
   "execution_count": null,
   "metadata": {},
   "outputs": [],
   "source": [
    "from itertools import product\n",
    "optimizers = ['adam', 'sgd', 'rmsprop', 'adagrad', 'adadelta', 'adamax', 'nadam']\n",
    "activation = ['relu', 'selu', 'elu', 'tanh',LeakyReLU(alpha=0.01)]\n",
    "scores_act_opt = list()\n",
    "activation_names = ['relu', 'selu', 'elu', 'tanh','LeakyReLU']\n",
    "act_opt = list(product(activation_names,optimizers))\n",
    "\n",
    "for act,opt in product(activation,optimizers):\n",
    "    acc = run_test_harness_act_opt(act,opt,X_train, y_train, X_test, y_test,X_val,y_val)\n",
    "    scores_act_opt.append(acc)\n",
    "    \n",
    "\n"
   ]
  },
  {
   "cell_type": "markdown",
   "metadata": {},
   "source": [
    "# Regularization \n",
    "## L1"
   ]
  },
  {
   "cell_type": "code",
   "execution_count": null,
   "metadata": {},
   "outputs": [],
   "source": [
    "import tensorflow\n",
    "model = Sequential()\n",
    "model.add(Conv2D(32, kernel_size=(3, 3),\n",
    "                activation='relu',\n",
    "                kernel_initializer='he_normal',\n",
    "                input_shape=(32,32,3)))\n",
    "model.add(MaxPooling2D((2, 2)))\n",
    "model.add(Dropout(0.25))\n",
    "model.add(Conv2D(64, (3, 3), activation='relu'))\n",
    "model.add(MaxPooling2D(pool_size=(2, 2)))\n",
    "model.add(Dropout(0.25))\n",
    "model.add(Conv2D(128, (3, 3), activation='relu'))\n",
    "model.add(Dropout(0.4))\n",
    "model.add(Flatten())\n",
    "model.add(Dense(128, activation='relu'))\n",
    "model.add(Dropout(0.3))\n",
    "model.add(Flatten())\n",
    "model.add(Dense(10, activation='softmax', kernel_regularizer=tensorflow.keras.regularizers.L1(l1=0.05)))\n",
    "#loop through the optimizers\n",
    "model.compile(optimizer='adam',\n",
    "loss=tf.keras.losses.categorical_crossentropy,\n",
    "metrics=['accuracy'])  \n",
    "model.summary()\n",
    "\n",
    "early_stopping = EarlyStopping(monitor='val_loss', patience=10, verbose=1)\n",
    "reduce_lr = ReduceLROnPlateau(monitor='val_loss', factor=0.2,\n",
    "                                patience=5, min_lr=0.001)\n",
    "\n",
    "h_callback = model.fit(X_train, y_train, epochs = 100,\n",
    "                validation_data=(X_val, y_val), callbacks=[early_stopping,reduce_lr])\n",
    "# Plot train vs test loss during training\n",
    "plot_loss(h_callback.history['loss'], h_callback.history['val_loss'])\n",
    "plot_accuracy(h_callback.history['accuracy'], h_callback.history['val_accuracy'])\n"
   ]
  },
  {
   "cell_type": "markdown",
   "metadata": {},
   "source": [
    "# L2"
   ]
  },
  {
   "cell_type": "code",
   "execution_count": null,
   "metadata": {},
   "outputs": [],
   "source": [
    "import tensorflow\n",
    "model = Sequential()\n",
    "model.add(Conv2D(32, kernel_size=(3, 3),\n",
    "                activation='relu',\n",
    "                kernel_initializer='he_normal',\n",
    "                input_shape=(32,32,3)))\n",
    "model.add(MaxPooling2D((2, 2)))\n",
    "model.add(Dropout(0.25))\n",
    "model.add(Conv2D(64, (3, 3), activation='relu'))\n",
    "model.add(MaxPooling2D(pool_size=(2, 2)))\n",
    "model.add(Dropout(0.25))\n",
    "model.add(Conv2D(128, (3, 3), activation='relu'))\n",
    "model.add(Dropout(0.4))\n",
    "model.add(Flatten())\n",
    "model.add(Dense(128, activation='relu'))\n",
    "model.add(Dropout(0.3))\n",
    "model.add(Flatten())\n",
    "model.add(Dense(10, activation='softmax', kernel_regularizer=tensorflow.keras.regularizers.L2(l2=0.05)))\n",
    "#loop through the optimizers\n",
    "model.compile(optimizer='adam',\n",
    "loss=tf.keras.losses.categorical_crossentropy,\n",
    "metrics=['accuracy'])  \n",
    "model.summary()\n",
    "\n",
    "early_stopping = EarlyStopping(monitor='val_loss', patience=10, verbose=1)\n",
    "reduce_lr = ReduceLROnPlateau(monitor='val_loss', factor=0.2,\n",
    "                                patience=5, min_lr=0.001)\n",
    "\n",
    "h_callback = model.fit(X_train, y_train, epochs = 100,\n",
    "                validation_data=(X_val, y_val), callbacks=[early_stopping,reduce_lr])\n",
    "\n",
    "# Plot train vs test loss during training\n",
    "plot_loss(h_callback.history['loss'], h_callback.history['val_loss'])\n",
    "plot_accuracy(h_callback.history['accuracy'], h_callback.history['val_accuracy'])\n"
   ]
  },
  {
   "cell_type": "markdown",
   "metadata": {},
   "source": [
    "## L1L2"
   ]
  },
  {
   "cell_type": "code",
   "execution_count": null,
   "metadata": {},
   "outputs": [],
   "source": [
    "import tensorflow\n",
    "model = Sequential()\n",
    "model.add(Conv2D(32, kernel_size=(3, 3),\n",
    "                activation='relu',\n",
    "                kernel_initializer='he_normal',\n",
    "                input_shape=(32,32,3)))\n",
    "model.add(MaxPooling2D((2, 2)))\n",
    "model.add(Dropout(0.25))\n",
    "model.add(Conv2D(64, (3, 3), activation='relu'))\n",
    "model.add(MaxPooling2D(pool_size=(2, 2)))\n",
    "model.add(Dropout(0.25))\n",
    "model.add(Conv2D(128, (3, 3), activation='relu'))\n",
    "model.add(Dropout(0.4))\n",
    "model.add(Flatten())\n",
    "model.add(Dense(128, activation='relu'))\n",
    "model.add(Dropout(0.3))\n",
    "model.add(Flatten())\n",
    "model.add(Dense(10, activation='softmax', kernel_regularizer=tensorflow.keras.regularizers.L1L2(l1=0.01, l2=0.01)))\n",
    "#loop through the optimizers\n",
    "model.compile(optimizer='adam',\n",
    "loss=tf.keras.losses.categorical_crossentropy,\n",
    "metrics=['accuracy'])  \n",
    "model.summary()\n",
    "\n",
    "early_stopping = EarlyStopping(monitor='val_loss', patience=10, verbose=1)\n",
    "reduce_lr = ReduceLROnPlateau(monitor='val_loss', factor=0.2,\n",
    "                                patience=5, min_lr=0.001)\n",
    "\n",
    "h_callback = model.fit(X_train, y_train, epochs = 100,\n",
    "                validation_data=(X_val, y_val), callbacks=[early_stopping,reduce_lr])\n",
    "\n",
    "# Plot train vs test loss during training\n",
    "plot_loss(h_callback.history['loss'], h_callback.history['val_loss'])\n",
    "plot_accuracy(h_callback.history['accuracy'], h_callback.history['val_accuracy'])\n"
   ]
  },
  {
   "cell_type": "code",
   "execution_count": null,
   "metadata": {},
   "outputs": [],
   "source": [
    "# online model\n",
    "# build and compile the model  (roughly following the VGG paper)\n",
    "\n",
    "#reg=l2(1e-4)   # L2 or \"ridge\" regularisation\n",
    "reg=None\n",
    "num_filters=32\n",
    "ac='relu'\n",
    "adm=Adam(lr=0.001,decay=0, beta_1=0.9, beta_2=0.999, epsilon=1e-08)\n",
    "opt=adm\n",
    "drop_dense=0.5\n",
    "drop_conv=0\n",
    "\n",
    "model = Sequential()\n",
    "\n",
    "model.add(Conv2D(num_filters, (3, 3), activation=ac, kernel_regularizer=reg, input_shape=(img_rows, img_cols, channels),padding='same'))\n",
    "model.add(BatchNormalization(axis=-1))\n",
    "model.add(Conv2D(num_filters, (3, 3), activation=ac,kernel_regularizer=reg,padding='same'))\n",
    "model.add(BatchNormalization(axis=-1))\n",
    "model.add(MaxPooling2D(pool_size=(2, 2)))   # reduces to 16x16x3xnum_filters\n",
    "model.add(Dropout(drop_conv))\n",
    "\n",
    "model.add(Conv2D(2*num_filters, (3, 3), activation=ac,kernel_regularizer=reg,padding='same'))\n",
    "model.add(BatchNormalization(axis=-1))\n",
    "model.add(Conv2D(2*num_filters, (3, 3), activation=ac,kernel_regularizer=reg,padding='same'))\n",
    "model.add(BatchNormalization(axis=-1))\n",
    "model.add(MaxPooling2D(pool_size=(2, 2)))   # reduces to 8x8x3x(2*num_filters)\n",
    "model.add(Dropout(drop_conv))\n",
    "\n",
    "model.add(Conv2D(4*num_filters, (3, 3), activation=ac,kernel_regularizer=reg,padding='same'))\n",
    "model.add(BatchNormalization(axis=-1))\n",
    "model.add(Conv2D(4*num_filters, (3, 3), activation=ac,kernel_regularizer=reg,padding='same'))\n",
    "model.add(BatchNormalization(axis=-1))\n",
    "model.add(MaxPooling2D(pool_size=(2, 2)))   # reduces to 4x4x3x(4*num_filters)\n",
    "model.add(Dropout(drop_conv))\n",
    "\n",
    "model.add(Flatten())\n",
    "model.add(Dense(512, activation=ac,kernel_regularizer=reg))\n",
    "model.add(BatchNormalization())\n",
    "model.add(Dropout(drop_dense))\n",
    "model.add(Dense(num_classes, activation='softmax'))\n",
    "\n",
    "model.compile(loss='categorical_crossentropy', metrics=['accuracy'],optimizer=opt)\n",
    "model.summary()"
   ]
  },
  {
   "cell_type": "code",
   "execution_count": null,
   "metadata": {},
   "outputs": [],
   "source": [
    "# training without augmentation\n",
    "history=model.fit(X_train, y_train, batch_size=128, epochs=100, validation_data=(X_val, y_val))\n",
    "#training accuracy without dropout\n",
    "train_acc=model.evaluate(X_train,y_train,batch_size=128)\n",
    "test_acc= model.evaluate(X_test,y_test,batch_size=128)\n",
    "print('Training accuracy: ',train_acc[1])\n",
    "print('Test accuracy: ',test_acc[1])\n"
   ]
  },
  {
   "cell_type": "markdown",
   "metadata": {},
   "source": [
    "# Keras tuner model 1 "
   ]
  },
  {
   "cell_type": "code",
   "execution_count": null,
   "metadata": {},
   "outputs": [],
   "source": [
    "import keras_tuner\n",
    "from tensorflow import keras\n",
    "def build_model(hp):\n",
    "  model = keras.Sequential()\n",
    "  model.add(keras.layers.Dense(\n",
    "      hp.Choice('units', [8, 16, 32]),\n",
    "      activation='relu'))\n",
    "  model.add(keras.layers.Dense(1, activation='relu'))\n",
    "  model.compile(loss='mse')\n",
    "  return model\n",
    "\n",
    "tuner = keras_tuner.RandomSearch(\n",
    "    build_model,\n",
    "    objective='val_loss',\n",
    "    max_trials=5)\n",
    "\n",
    "tuner.search(X_train, y_train, epochs=5, validation_data=(X_val, y_val))\n",
    "best_model = tuner.get_best_models()[0]"
   ]
  },
  {
   "cell_type": "markdown",
   "metadata": {},
   "source": [
    "# things not done :\n",
    "- data frame for all models for fashion also\n",
    "- create a classification_report for best model\n",
    "- show some images that is predicted wrongly for both\n",
    "- padding for fashion\n",
    "- shared layer for both is it better?\n",
    "- why is standardization import or centering does it improve performance\n"
   ]
  }
 ],
 "metadata": {
  "kernelspec": {
   "display_name": "Python 3.10.0 64-bit",
   "language": "python",
   "name": "python3"
  },
  "language_info": {
   "codemirror_mode": {
    "name": "ipython",
    "version": 3
   },
   "file_extension": ".py",
   "mimetype": "text/x-python",
   "name": "python",
   "nbconvert_exporter": "python",
   "pygments_lexer": "ipython3",
   "version": "3.10.0"
  },
  "orig_nbformat": 4,
  "vscode": {
   "interpreter": {
    "hash": "146e877987a5ca10c5ba40ec3e7a25002bcba56c71dc1c36e6a7a19a2012e1b9"
   }
  }
 },
 "nbformat": 4,
 "nbformat_minor": 2
}
